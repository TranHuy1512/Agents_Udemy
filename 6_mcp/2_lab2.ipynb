{
 "cells": [
  {
   "cell_type": "markdown",
   "metadata": {},
   "source": [
    "### Week 6, Day 2\n",
    "\n",
    "We're about to create and use our own MCP Server and MCP Client!\n",
    "\n",
    "It's pretty simple, but it's not super-simple. The excitment around MCP is about how easy it is to share and use other MCP Servers - making our own does involve a bit of work.\n",
    "\n",
    "Let's review some python code made mostly by a hard-working Engineering Team:\n",
    "\n",
    "accounts.py"
   ]
  },
  {
   "cell_type": "code",
   "execution_count": 1,
   "metadata": {},
   "outputs": [
    {
     "data": {
      "text/plain": [
       "True"
      ]
     },
     "execution_count": 1,
     "metadata": {},
     "output_type": "execute_result"
    }
   ],
   "source": [
    "from dotenv import load_dotenv\n",
    "from agents import Agent, Runner, trace\n",
    "from agents.mcp import MCPServerStdio\n",
    "from IPython.display import display, Markdown\n",
    "\n",
    "load_dotenv(override=True)"
   ]
  },
  {
   "cell_type": "code",
   "execution_count": 2,
   "metadata": {},
   "outputs": [],
   "source": [
    "from accounts import Account"
   ]
  },
  {
   "cell_type": "code",
   "execution_count": 3,
   "metadata": {},
   "outputs": [
    {
     "data": {
      "text/plain": [
       "Account(name='ed', balance=4609.566000000002, strategy='You are a day trader that aggressively buys and sells shares based on news and market conditions.', holdings={'TSLA': 100, 'ORCL': 50, 'CYB': 50, 'AMZN': 3}, transactions=[50 shares of TSLA at 68.136 each., 50 shares of TSLA at 22.044 each., 50 shares of NVDA at 1.002 each., 20 shares of NVDA at 25.05 each., 70 shares of NVDA at 79.84 each., 100 shares of TSLA at 65.868 each., 50 shares of TSLA at 79.158 each., 10 shares of TSLA at 19.96 each., 50 shares of TSLA at 18.036 each., 50 shares of TSLA at 100.2 each., 20 shares of TSLA at 74.85 each., 50 shares of ORCL at 86.172 each., 50 shares of CYB at 34.068 each., 20 shares of TSLA at 89.82 each., 3 shares of AMZN at 39.078 each.], portfolio_value_time_series=[('2025-09-16 09:11:14', 10000.0), ('2025-09-16 09:17:54', 10000.0), ('2025-09-16 09:25:56', 10143.2), ('2025-09-16 09:26:00', 6791.000000000001), ('2025-09-16 09:26:14', 12140.900000000001), ('2025-09-16 09:26:22', 11599.900000000001), ('2025-09-16 09:30:51', 15249.900000000001), ('2025-09-16 09:31:18', 18328.7), ('2025-09-16 09:31:24', 17115.5), ('2025-09-16 09:31:32', 13857.6), ('2025-09-16 09:31:38', 14117.2), ('2025-09-16 09:34:48', 16517.2), ('2025-09-16 09:51:20', 14797.2), ('2025-09-16 09:53:08', 15237.2), ('2025-09-16 09:55:48', 15317.2), ('2025-09-16 10:00:10', 14157.2), ('2025-09-16 10:03:01', 14957.2), ('2025-09-16 10:03:31', 13985.400000000001), ('2025-09-16 10:03:36', 18505.4), ('2025-09-16 10:03:42', 10142.400000000001), ('2025-09-16 10:04:17', 9422.400000000001), ('2025-09-16 10:04:39', 5303.800000000002), ('2025-09-16 10:05:02', 11450.400000000001), ('2025-09-16 10:05:18', 16026.800000000003), ('2025-09-16 10:05:47', 18276.800000000003), ('2025-09-17 08:39:30', 12370.566000000003), ('2025-09-17 08:40:01', 16063.566000000003)])"
      ]
     },
     "execution_count": 3,
     "metadata": {},
     "output_type": "execute_result"
    }
   ],
   "source": [
    "account = Account.get(\"Ed\")\n",
    "account"
   ]
  },
  {
   "cell_type": "code",
   "execution_count": 4,
   "metadata": {},
   "outputs": [
    {
     "name": "stdout",
     "output_type": "stream",
     "text": [
      "Was not able to use the polygon API due to {\"status\":\"NOT_AUTHORIZED\",\"request_id\":\"2b624b7a3385b079aab0fb022d1aa40b\",\"message\":\"Attempted to request today's data before end of day. Please upgrade your plan at https://polygon.io/pricing\"}; using a random number\n",
      "Was not able to use the polygon API due to {\"status\":\"NOT_AUTHORIZED\",\"request_id\":\"c3738c27c2c51b32a0b5790982d099af\",\"message\":\"Attempted to request today's data before end of day. Please upgrade your plan at https://polygon.io/pricing\"}; using a random number\n",
      "Was not able to use the polygon API due to HTTPSConnectionPool(host='api.polygon.io', port=443): Max retries exceeded with url: /v2/aggs/grouped/locale/us/market/stocks/2025-09-16?adjusted=true&locale=us&market_type=stocks&include_otc=false (Caused by ResponseError('too many 429 error responses')); using a random number\n",
      "Was not able to use the polygon API due to HTTPSConnectionPool(host='api.polygon.io', port=443): Max retries exceeded with url: /v2/aggs/ticker/SPY/prev (Caused by ResponseError('too many 429 error responses')); using a random number\n",
      "Was not able to use the polygon API due to HTTPSConnectionPool(host='api.polygon.io', port=443): Max retries exceeded with url: /v2/aggs/ticker/SPY/prev (Caused by ResponseError('too many 429 error responses')); using a random number\n"
     ]
    },
    {
     "data": {
      "text/plain": [
       "'Completed. Latest details:\\n{\"name\": \"ed\", \"balance\": 4606.560000000001, \"strategy\": \"You are a day trader that aggressively buys and sells shares based on news and market conditions.\", \"holdings\": {\"TSLA\": 100, \"ORCL\": 50, \"CYB\": 50, \"AMZN\": 6}, \"transactions\": [{\"symbol\": \"TSLA\", \"quantity\": 50, \"price\": 68.136, \"timestamp\": \"2025-09-16 09:25:54\", \"rationale\": \"Positive news and stock momentum, approaching break-even for 2025.\"}, {\"symbol\": \"TSLA\", \"quantity\": 50, \"price\": 22.044, \"timestamp\": \"2025-09-16 09:25:59\", \"rationale\": \"Positive news and stock momentum, approaching break-even for 2025.\"}, {\"symbol\": \"NVDA\", \"quantity\": 50, \"price\": 1.002, \"timestamp\": \"2025-09-16 09:26:10\", \"rationale\": \"Based on research, NVDA stock is at $38.00. Buying 50 shares based on recent news.\"}, {\"symbol\": \"NVDA\", \"quantity\": 20, \"price\": 25.05, \"timestamp\": \"2025-09-16 09:26:18\", \"rationale\": \"Based on research, NVDA stock is at $38.00. Buying 20 shares based on recent news.\"}, {\"symbol\": \"NVDA\", \"quantity\": -70, \"price\": 79.84, \"timestamp\": \"2025-09-16 09:31:16\", \"rationale\": \"Aggressively selling shares based on market conditions.\"}, {\"symbol\": \"TSLA\", \"quantity\": -100, \"price\": 65.868, \"timestamp\": \"2025-09-16 09:31:24\", \"rationale\": \"Aggressively selling shares based on market conditions.\"}, {\"symbol\": \"TSLA\", \"quantity\": 50, \"price\": 79.158, \"timestamp\": \"2025-09-16 09:31:30\", \"rationale\": \"Buying shares based on recent news.\"}, {\"symbol\": \"TSLA\", \"quantity\": -10, \"price\": 19.96, \"timestamp\": \"2025-09-16 09:31:36\", \"rationale\": \"Selling shares based on market conditions.\"}, {\"symbol\": \"TSLA\", \"quantity\": 50, \"price\": 18.036, \"timestamp\": \"2025-09-16 10:03:29\", \"rationale\": \"Based on research, the current TSLA stock price is $7.0, a significant drop from the previous close. Buying shares based on recent news.\"}, {\"symbol\": \"TSLA\", \"quantity\": 50, \"price\": 100.2, \"timestamp\": \"2025-09-16 10:03:34\", \"rationale\": \"Based on research, the current TSLA stock price is $7.0, a significant drop from the previous close. Buying shares based on recent news.\"}, {\"symbol\": \"TSLA\", \"quantity\": -20, \"price\": 74.85, \"timestamp\": \"2025-09-16 10:03:39\", \"rationale\": \"Selling shares based on market conditions.\"}, {\"symbol\": \"ORCL\", \"quantity\": 50, \"price\": 86.172, \"timestamp\": \"2025-09-16 10:04:32\", \"rationale\": \"Buying shares based on positive news regarding cloud revenue forecasts and the stock\\'s after-hours surge.\"}, {\"symbol\": \"CYB\", \"quantity\": 50, \"price\": 34.068, \"timestamp\": \"2025-09-16 10:04:54\", \"rationale\": \"Buying shares of CYB based on the Chinese Yuan hitting a 2025 high, anticipating continued upward movement.\"}, {\"symbol\": \"TSLA\", \"quantity\": -20, \"price\": 89.82, \"timestamp\": \"2025-09-16 10:05:10\", \"rationale\": \"Selling shares of TSLA to capitalize on the current price movement and free up capital.\"}, {\"symbol\": \"AMZN\", \"quantity\": 3, \"price\": 39.078, \"timestamp\": \"2025-09-17 08:39:22\", \"rationale\": \"Because this bookstore website looks promising\"}, {\"symbol\": \"AMZN\", \"quantity\": 3, \"price\": 1.002, \"timestamp\": \"2025-09-17 08:41:21\", \"rationale\": \"Because this bookstore website looks promising\"}], \"portfolio_value_time_series\": [[\"2025-09-16 09:11:14\", 10000.0], [\"2025-09-16 09:17:54\", 10000.0], [\"2025-09-16 09:25:56\", 10143.2], [\"2025-09-16 09:26:00\", 6791.000000000001], [\"2025-09-16 09:26:14\", 12140.900000000001], [\"2025-09-16 09:26:22\", 11599.900000000001], [\"2025-09-16 09:30:51\", 15249.900000000001], [\"2025-09-16 09:31:18\", 18328.7], [\"2025-09-16 09:31:24\", 17115.5], [\"2025-09-16 09:31:32\", 13857.6], [\"2025-09-16 09:31:38\", 14117.2], [\"2025-09-16 09:34:48\", 16517.2], [\"2025-09-16 09:51:20\", 14797.2], [\"2025-09-16 09:53:08\", 15237.2], [\"2025-09-16 09:55:48\", 15317.2], [\"2025-09-16 10:00:10\", 14157.2], [\"2025-09-16 10:03:01\", 14957.2], [\"2025-09-16 10:03:31\", 13985.400000000001], [\"2025-09-16 10:03:36\", 18505.4], [\"2025-09-16 10:03:42\", 10142.400000000001], [\"2025-09-16 10:04:17\", 9422.400000000001], [\"2025-09-16 10:04:39\", 5303.800000000002], [\"2025-09-16 10:05:02\", 11450.400000000001], [\"2025-09-16 10:05:18\", 16026.800000000003], [\"2025-09-16 10:05:47\", 18276.800000000003], [\"2025-09-17 08:39:30\", 12370.566000000003], [\"2025-09-17 08:40:01\", 16063.566000000003], [\"2025-09-17 08:41:30\", 14970.560000000001]], \"total_portfolio_value\": 14970.560000000001, \"total_profit_loss\": 4970.560000000001}'"
      ]
     },
     "execution_count": 4,
     "metadata": {},
     "output_type": "execute_result"
    }
   ],
   "source": [
    "account.buy_shares(\"AMZN\", 3, \"Because this bookstore website looks promising\")"
   ]
  },
  {
   "cell_type": "code",
   "execution_count": 5,
   "metadata": {},
   "outputs": [
    {
     "name": "stdout",
     "output_type": "stream",
     "text": [
      "Was not able to use the polygon API due to HTTPSConnectionPool(host='api.polygon.io', port=443): Max retries exceeded with url: /v2/aggs/ticker/SPY/prev (Caused by ResponseError('too many 429 error responses')); using a random number\n",
      "Was not able to use the polygon API due to HTTPSConnectionPool(host='api.polygon.io', port=443): Max retries exceeded with url: /v2/aggs/ticker/SPY/prev (Caused by ResponseError('too many 429 error responses')); using a random number\n",
      "Was not able to use the polygon API due to {\"status\":\"NOT_AUTHORIZED\",\"request_id\":\"6daeba0c6e4f5b5328d69b453392b735\",\"message\":\"Attempted to request today's data before end of day. Please upgrade your plan at https://polygon.io/pricing\"}; using a random number\n",
      "Was not able to use the polygon API due to {\"status\":\"NOT_AUTHORIZED\",\"request_id\":\"dd7ae09da045187b7447a6ab1e74d4ae\",\"message\":\"Attempted to request today's data before end of day. Please upgrade your plan at https://polygon.io/pricing\"}; using a random number\n"
     ]
    },
    {
     "data": {
      "text/plain": [
       "'{\"name\": \"ed\", \"balance\": 4609.566000000002, \"strategy\": \"You are a day trader that aggressively buys and sells shares based on news and market conditions.\", \"holdings\": {\"TSLA\": 100, \"ORCL\": 50, \"CYB\": 50, \"AMZN\": 3}, \"transactions\": [{\"symbol\": \"TSLA\", \"quantity\": 50, \"price\": 68.136, \"timestamp\": \"2025-09-16 09:25:54\", \"rationale\": \"Positive news and stock momentum, approaching break-even for 2025.\"}, {\"symbol\": \"TSLA\", \"quantity\": 50, \"price\": 22.044, \"timestamp\": \"2025-09-16 09:25:59\", \"rationale\": \"Positive news and stock momentum, approaching break-even for 2025.\"}, {\"symbol\": \"NVDA\", \"quantity\": 50, \"price\": 1.002, \"timestamp\": \"2025-09-16 09:26:10\", \"rationale\": \"Based on research, NVDA stock is at $38.00. Buying 50 shares based on recent news.\"}, {\"symbol\": \"NVDA\", \"quantity\": 20, \"price\": 25.05, \"timestamp\": \"2025-09-16 09:26:18\", \"rationale\": \"Based on research, NVDA stock is at $38.00. Buying 20 shares based on recent news.\"}, {\"symbol\": \"NVDA\", \"quantity\": -70, \"price\": 79.84, \"timestamp\": \"2025-09-16 09:31:16\", \"rationale\": \"Aggressively selling shares based on market conditions.\"}, {\"symbol\": \"TSLA\", \"quantity\": -100, \"price\": 65.868, \"timestamp\": \"2025-09-16 09:31:24\", \"rationale\": \"Aggressively selling shares based on market conditions.\"}, {\"symbol\": \"TSLA\", \"quantity\": 50, \"price\": 79.158, \"timestamp\": \"2025-09-16 09:31:30\", \"rationale\": \"Buying shares based on recent news.\"}, {\"symbol\": \"TSLA\", \"quantity\": -10, \"price\": 19.96, \"timestamp\": \"2025-09-16 09:31:36\", \"rationale\": \"Selling shares based on market conditions.\"}, {\"symbol\": \"TSLA\", \"quantity\": 50, \"price\": 18.036, \"timestamp\": \"2025-09-16 10:03:29\", \"rationale\": \"Based on research, the current TSLA stock price is $7.0, a significant drop from the previous close. Buying shares based on recent news.\"}, {\"symbol\": \"TSLA\", \"quantity\": 50, \"price\": 100.2, \"timestamp\": \"2025-09-16 10:03:34\", \"rationale\": \"Based on research, the current TSLA stock price is $7.0, a significant drop from the previous close. Buying shares based on recent news.\"}, {\"symbol\": \"TSLA\", \"quantity\": -20, \"price\": 74.85, \"timestamp\": \"2025-09-16 10:03:39\", \"rationale\": \"Selling shares based on market conditions.\"}, {\"symbol\": \"ORCL\", \"quantity\": 50, \"price\": 86.172, \"timestamp\": \"2025-09-16 10:04:32\", \"rationale\": \"Buying shares based on positive news regarding cloud revenue forecasts and the stock\\'s after-hours surge.\"}, {\"symbol\": \"CYB\", \"quantity\": 50, \"price\": 34.068, \"timestamp\": \"2025-09-16 10:04:54\", \"rationale\": \"Buying shares of CYB based on the Chinese Yuan hitting a 2025 high, anticipating continued upward movement.\"}, {\"symbol\": \"TSLA\", \"quantity\": -20, \"price\": 89.82, \"timestamp\": \"2025-09-16 10:05:10\", \"rationale\": \"Selling shares of TSLA to capitalize on the current price movement and free up capital.\"}, {\"symbol\": \"AMZN\", \"quantity\": 3, \"price\": 39.078, \"timestamp\": \"2025-09-17 08:39:22\", \"rationale\": \"Because this bookstore website looks promising\"}], \"portfolio_value_time_series\": [[\"2025-09-16 09:11:14\", 10000.0], [\"2025-09-16 09:17:54\", 10000.0], [\"2025-09-16 09:25:56\", 10143.2], [\"2025-09-16 09:26:00\", 6791.000000000001], [\"2025-09-16 09:26:14\", 12140.900000000001], [\"2025-09-16 09:26:22\", 11599.900000000001], [\"2025-09-16 09:30:51\", 15249.900000000001], [\"2025-09-16 09:31:18\", 18328.7], [\"2025-09-16 09:31:24\", 17115.5], [\"2025-09-16 09:31:32\", 13857.6], [\"2025-09-16 09:31:38\", 14117.2], [\"2025-09-16 09:34:48\", 16517.2], [\"2025-09-16 09:51:20\", 14797.2], [\"2025-09-16 09:53:08\", 15237.2], [\"2025-09-16 09:55:48\", 15317.2], [\"2025-09-16 10:00:10\", 14157.2], [\"2025-09-16 10:03:01\", 14957.2], [\"2025-09-16 10:03:31\", 13985.400000000001], [\"2025-09-16 10:03:36\", 18505.4], [\"2025-09-16 10:03:42\", 10142.400000000001], [\"2025-09-16 10:04:17\", 9422.400000000001], [\"2025-09-16 10:04:39\", 5303.800000000002], [\"2025-09-16 10:05:02\", 11450.400000000001], [\"2025-09-16 10:05:18\", 16026.800000000003], [\"2025-09-16 10:05:47\", 18276.800000000003], [\"2025-09-17 08:39:30\", 12370.566000000003], [\"2025-09-17 08:40:01\", 16063.566000000003]], \"total_portfolio_value\": 16063.566000000003, \"total_profit_loss\": 6063.566}'"
      ]
     },
     "execution_count": 5,
     "metadata": {},
     "output_type": "execute_result"
    }
   ],
   "source": [
    "account.report()"
   ]
  },
  {
   "cell_type": "code",
   "execution_count": 6,
   "metadata": {},
   "outputs": [
    {
     "data": {
      "text/plain": [
       "[{'symbol': 'AMZN',\n",
       "  'quantity': 3,\n",
       "  'price': 100.2,\n",
       "  'timestamp': '2025-09-15 09:08:14',\n",
       "  'rationale': 'Because this bookstore website looks promising'}]"
      ]
     },
     "execution_count": 6,
     "metadata": {},
     "output_type": "execute_result"
    }
   ],
   "source": [
    "account.list_transactions()"
   ]
  },
  {
   "cell_type": "markdown",
   "metadata": {},
   "source": [
    "### Now we write an MCP server and use it directly!"
   ]
  },
  {
   "cell_type": "code",
   "execution_count": 7,
   "metadata": {},
   "outputs": [],
   "source": [
    "# Now let's use our accounts server as an MCP server\n",
    "\n",
    "params = {\"command\": \"uv\", \"args\": [\"run\", \"accounts_server.py\"]}\n",
    "async with MCPServerStdio(params=params, client_session_timeout_seconds=30) as server:\n",
    "    mcp_tools = await server.list_tools()\n"
   ]
  },
  {
   "cell_type": "code",
   "execution_count": 8,
   "metadata": {},
   "outputs": [
    {
     "data": {
      "text/plain": [
       "[Tool(name='get_balance', title=None, description='Get the cash balance of the given account name.\\n\\n    Args:\\n        name: The name of the account holder\\n    ', inputSchema={'properties': {'name': {'title': 'Name', 'type': 'string'}}, 'required': ['name'], 'title': 'get_balanceArguments', 'type': 'object'}, outputSchema={'properties': {'result': {'title': 'Result', 'type': 'number'}}, 'required': ['result'], 'title': 'get_balanceOutput', 'type': 'object'}, annotations=None, meta=None),\n",
       " Tool(name='get_holdings', title=None, description='Get the holdings of the given account name.\\n\\n    Args:\\n        name: The name of the account holder\\n    ', inputSchema={'properties': {'name': {'title': 'Name', 'type': 'string'}}, 'required': ['name'], 'title': 'get_holdingsArguments', 'type': 'object'}, outputSchema={'additionalProperties': {'type': 'integer'}, 'title': 'get_holdingsDictOutput', 'type': 'object'}, annotations=None, meta=None),\n",
       " Tool(name='buy_shares', title=None, description=\"Buy shares of a stock.\\n\\n    Args:\\n        name: The name of the account holder\\n        symbol: The symbol of the stock\\n        quantity: The quantity of shares to buy\\n        rationale: The rationale for the purchase and fit with the account's strategy\\n    \", inputSchema={'properties': {'name': {'title': 'Name', 'type': 'string'}, 'symbol': {'title': 'Symbol', 'type': 'string'}, 'quantity': {'title': 'Quantity', 'type': 'integer'}, 'rationale': {'title': 'Rationale', 'type': 'string'}}, 'required': ['name', 'symbol', 'quantity', 'rationale'], 'title': 'buy_sharesArguments', 'type': 'object'}, outputSchema={'properties': {'result': {'title': 'Result', 'type': 'number'}}, 'required': ['result'], 'title': 'buy_sharesOutput', 'type': 'object'}, annotations=None, meta=None),\n",
       " Tool(name='sell_shares', title=None, description=\"Sell shares of a stock.\\n\\n    Args:\\n        name: The name of the account holder\\n        symbol: The symbol of the stock\\n        quantity: The quantity of shares to sell\\n        rationale: The rationale for the sale and fit with the account's strategy\\n    \", inputSchema={'properties': {'name': {'title': 'Name', 'type': 'string'}, 'symbol': {'title': 'Symbol', 'type': 'string'}, 'quantity': {'title': 'Quantity', 'type': 'integer'}, 'rationale': {'title': 'Rationale', 'type': 'string'}}, 'required': ['name', 'symbol', 'quantity', 'rationale'], 'title': 'sell_sharesArguments', 'type': 'object'}, outputSchema={'properties': {'result': {'title': 'Result', 'type': 'number'}}, 'required': ['result'], 'title': 'sell_sharesOutput', 'type': 'object'}, annotations=None, meta=None),\n",
       " Tool(name='change_strategy', title=None, description='At your discretion, if you choose to, call this to change your investment strategy for the future.\\n\\n    Args:\\n        name: The name of the account holder\\n        strategy: The new strategy for the account\\n    ', inputSchema={'properties': {'name': {'title': 'Name', 'type': 'string'}, 'strategy': {'title': 'Strategy', 'type': 'string'}}, 'required': ['name', 'strategy'], 'title': 'change_strategyArguments', 'type': 'object'}, outputSchema={'properties': {'result': {'title': 'Result', 'type': 'string'}}, 'required': ['result'], 'title': 'change_strategyOutput', 'type': 'object'}, annotations=None, meta=None)]"
      ]
     },
     "execution_count": 8,
     "metadata": {},
     "output_type": "execute_result"
    }
   ],
   "source": [
    "mcp_tools"
   ]
  },
  {
   "cell_type": "code",
   "execution_count": 9,
   "metadata": {},
   "outputs": [],
   "source": [
    "from openai import AsyncOpenAI\n",
    "from agents import OpenAIChatCompletionsModel\n",
    "import os\n",
    "\n",
    "instructions = \"You are able to manage an account for a client, and answer questions about the account.\"\n",
    "request = \"My name is Ed and my account is under the name Ed. What's my balance and my holdings?\"\n",
    "BASE_URL = \"https://generativelanguage.googleapis.com/v1beta/openai/\"\n",
    "MODEL_NAME='gemini-2.0-flash'\n",
    "\n",
    "gemini_client = AsyncOpenAI(base_url=BASE_URL, api_key=os.getenv(\"GOOGLE_API_KEY\"))\n",
    "custom_model = OpenAIChatCompletionsModel(model=MODEL_NAME, openai_client=gemini_client) \n",
    "model = custom_model"
   ]
  },
  {
   "cell_type": "code",
   "execution_count": null,
   "metadata": {},
   "outputs": [
    {
     "data": {
      "text/markdown": [
       "OK. Your balance is 9699.4 and you have 3 shares of AMZN.\n"
      ],
      "text/plain": [
       "<IPython.core.display.Markdown object>"
      ]
     },
     "metadata": {},
     "output_type": "display_data"
    },
    {
     "name": "stderr",
     "output_type": "stream",
     "text": [
      "OPENAI_API_KEY is not set, skipping trace export\n",
      "OPENAI_API_KEY is not set, skipping trace export\n"
     ]
    }
   ],
   "source": [
    "\n",
    "async with MCPServerStdio(params=params, client_session_timeout_seconds=30) as mcp_server:\n",
    "    agent = Agent(name=\"account_manager\", instructions=instructions, model=model, mcp_servers=[mcp_server])\n",
    "    with trace(\"account_manager\"):\n",
    "        result = await Runner.run(agent, request)\n",
    "    display(Markdown(result.final_output))\n"
   ]
  },
  {
   "cell_type": "markdown",
   "metadata": {},
   "source": [
    "### Now let's build our own MCP Client"
   ]
  },
  {
   "cell_type": "code",
   "execution_count": 11,
   "metadata": {},
   "outputs": [
    {
     "name": "stdout",
     "output_type": "stream",
     "text": [
      "[Tool(name='get_balance', title=None, description='Get the cash balance of the given account name.\\n\\n    Args:\\n        name: The name of the account holder\\n    ', inputSchema={'properties': {'name': {'title': 'Name', 'type': 'string'}}, 'required': ['name'], 'title': 'get_balanceArguments', 'type': 'object'}, outputSchema={'properties': {'result': {'title': 'Result', 'type': 'number'}}, 'required': ['result'], 'title': 'get_balanceOutput', 'type': 'object'}, annotations=None, meta=None), Tool(name='get_holdings', title=None, description='Get the holdings of the given account name.\\n\\n    Args:\\n        name: The name of the account holder\\n    ', inputSchema={'properties': {'name': {'title': 'Name', 'type': 'string'}}, 'required': ['name'], 'title': 'get_holdingsArguments', 'type': 'object'}, outputSchema={'additionalProperties': {'type': 'integer'}, 'title': 'get_holdingsDictOutput', 'type': 'object'}, annotations=None, meta=None), Tool(name='buy_shares', title=None, description=\"Buy shares of a stock.\\n\\n    Args:\\n        name: The name of the account holder\\n        symbol: The symbol of the stock\\n        quantity: The quantity of shares to buy\\n        rationale: The rationale for the purchase and fit with the account's strategy\\n    \", inputSchema={'properties': {'name': {'title': 'Name', 'type': 'string'}, 'symbol': {'title': 'Symbol', 'type': 'string'}, 'quantity': {'title': 'Quantity', 'type': 'integer'}, 'rationale': {'title': 'Rationale', 'type': 'string'}}, 'required': ['name', 'symbol', 'quantity', 'rationale'], 'title': 'buy_sharesArguments', 'type': 'object'}, outputSchema={'properties': {'result': {'title': 'Result', 'type': 'number'}}, 'required': ['result'], 'title': 'buy_sharesOutput', 'type': 'object'}, annotations=None, meta=None), Tool(name='sell_shares', title=None, description=\"Sell shares of a stock.\\n\\n    Args:\\n        name: The name of the account holder\\n        symbol: The symbol of the stock\\n        quantity: The quantity of shares to sell\\n        rationale: The rationale for the sale and fit with the account's strategy\\n    \", inputSchema={'properties': {'name': {'title': 'Name', 'type': 'string'}, 'symbol': {'title': 'Symbol', 'type': 'string'}, 'quantity': {'title': 'Quantity', 'type': 'integer'}, 'rationale': {'title': 'Rationale', 'type': 'string'}}, 'required': ['name', 'symbol', 'quantity', 'rationale'], 'title': 'sell_sharesArguments', 'type': 'object'}, outputSchema={'properties': {'result': {'title': 'Result', 'type': 'number'}}, 'required': ['result'], 'title': 'sell_sharesOutput', 'type': 'object'}, annotations=None, meta=None), Tool(name='change_strategy', title=None, description='At your discretion, if you choose to, call this to change your investment strategy for the future.\\n\\n    Args:\\n        name: The name of the account holder\\n        strategy: The new strategy for the account\\n    ', inputSchema={'properties': {'name': {'title': 'Name', 'type': 'string'}, 'strategy': {'title': 'Strategy', 'type': 'string'}}, 'required': ['name', 'strategy'], 'title': 'change_strategyArguments', 'type': 'object'}, outputSchema={'properties': {'result': {'title': 'Result', 'type': 'string'}}, 'required': ['result'], 'title': 'change_strategyOutput', 'type': 'object'}, annotations=None, meta=None)]\n",
      "[FunctionTool(name='get_balance', description='Get the cash balance of the given account name.\\n\\n    Args:\\n        name: The name of the account holder\\n    ', params_json_schema={'properties': {'name': {'title': 'Name', 'type': 'string'}}, 'required': ['name'], 'title': 'get_balanceArguments', 'type': 'object', 'additionalProperties': False}, on_invoke_tool=<function get_accounts_tools_openai.<locals>.<lambda> at 0x1078eb920>, strict_json_schema=True, is_enabled=True), FunctionTool(name='get_holdings', description='Get the holdings of the given account name.\\n\\n    Args:\\n        name: The name of the account holder\\n    ', params_json_schema={'properties': {'name': {'title': 'Name', 'type': 'string'}}, 'required': ['name'], 'title': 'get_holdingsArguments', 'type': 'object', 'additionalProperties': False}, on_invoke_tool=<function get_accounts_tools_openai.<locals>.<lambda> at 0x10790d940>, strict_json_schema=True, is_enabled=True), FunctionTool(name='buy_shares', description=\"Buy shares of a stock.\\n\\n    Args:\\n        name: The name of the account holder\\n        symbol: The symbol of the stock\\n        quantity: The quantity of shares to buy\\n        rationale: The rationale for the purchase and fit with the account's strategy\\n    \", params_json_schema={'properties': {'name': {'title': 'Name', 'type': 'string'}, 'symbol': {'title': 'Symbol', 'type': 'string'}, 'quantity': {'title': 'Quantity', 'type': 'integer'}, 'rationale': {'title': 'Rationale', 'type': 'string'}}, 'required': ['name', 'symbol', 'quantity', 'rationale'], 'title': 'buy_sharesArguments', 'type': 'object', 'additionalProperties': False}, on_invoke_tool=<function get_accounts_tools_openai.<locals>.<lambda> at 0x10792c180>, strict_json_schema=True, is_enabled=True), FunctionTool(name='sell_shares', description=\"Sell shares of a stock.\\n\\n    Args:\\n        name: The name of the account holder\\n        symbol: The symbol of the stock\\n        quantity: The quantity of shares to sell\\n        rationale: The rationale for the sale and fit with the account's strategy\\n    \", params_json_schema={'properties': {'name': {'title': 'Name', 'type': 'string'}, 'symbol': {'title': 'Symbol', 'type': 'string'}, 'quantity': {'title': 'Quantity', 'type': 'integer'}, 'rationale': {'title': 'Rationale', 'type': 'string'}}, 'required': ['name', 'symbol', 'quantity', 'rationale'], 'title': 'sell_sharesArguments', 'type': 'object', 'additionalProperties': False}, on_invoke_tool=<function get_accounts_tools_openai.<locals>.<lambda> at 0x10792c040>, strict_json_schema=True, is_enabled=True), FunctionTool(name='change_strategy', description='At your discretion, if you choose to, call this to change your investment strategy for the future.\\n\\n    Args:\\n        name: The name of the account holder\\n        strategy: The new strategy for the account\\n    ', params_json_schema={'properties': {'name': {'title': 'Name', 'type': 'string'}, 'strategy': {'title': 'Strategy', 'type': 'string'}}, 'required': ['name', 'strategy'], 'title': 'change_strategyArguments', 'type': 'object', 'additionalProperties': False}, on_invoke_tool=<function get_accounts_tools_openai.<locals>.<lambda> at 0x107b051c0>, strict_json_schema=True, is_enabled=True)]\n"
     ]
    }
   ],
   "source": [
    "from accounts_client import get_accounts_tools_openai, read_accounts_resource, list_accounts_tools\n",
    "\n",
    "mcp_tools = await list_accounts_tools()\n",
    "print(mcp_tools)\n",
    "openai_tools = await get_accounts_tools_openai()\n",
    "print(openai_tools)"
   ]
  },
  {
   "cell_type": "code",
   "execution_count": 12,
   "metadata": {},
   "outputs": [
    {
     "data": {
      "text/markdown": [
       "Your balance is 9699.4.\n"
      ],
      "text/plain": [
       "<IPython.core.display.Markdown object>"
      ]
     },
     "metadata": {},
     "output_type": "display_data"
    }
   ],
   "source": [
    "request = \"My name is Ed and my account is under the name Ed. What's my balance?\"\n",
    "\n",
    "with trace(\"account_mcp_client\"):\n",
    "    agent = Agent(name=\"account_manager\", instructions=instructions, model=model, tools=openai_tools)\n",
    "    result = await Runner.run(agent, request)\n",
    "    display(Markdown(result.final_output))"
   ]
  },
  {
   "cell_type": "code",
   "execution_count": 13,
   "metadata": {},
   "outputs": [
    {
     "name": "stdout",
     "output_type": "stream",
     "text": [
      "{\"name\": \"ed\", \"balance\": 9699.4, \"strategy\": \"\", \"holdings\": {\"AMZN\": 3}, \"transactions\": [{\"symbol\": \"AMZN\", \"quantity\": 3, \"price\": 100.2, \"timestamp\": \"2025-09-15 09:08:14\", \"rationale\": \"Because this bookstore website looks promising\"}], \"portfolio_value_time_series\": [[\"2025-09-15 09:08:14\", 9756.4], [\"2025-09-15 09:08:16\", 9927.4], [\"2025-09-15 09:21:21\", 9810.4]], \"total_portfolio_value\": 9810.4, \"total_profit_loss\": -189.60000000000036}\n"
     ]
    }
   ],
   "source": [
    "context = await read_accounts_resource(\"ed\")\n",
    "print(context)"
   ]
  },
  {
   "cell_type": "code",
   "execution_count": 14,
   "metadata": {},
   "outputs": [
    {
     "data": {
      "text/plain": [
       "'{\"name\": \"ed\", \"balance\": 9699.4, \"strategy\": \"\", \"holdings\": {\"AMZN\": 3}, \"transactions\": [{\"symbol\": \"AMZN\", \"quantity\": 3, \"price\": 100.2, \"timestamp\": \"2025-09-15 09:08:14\", \"rationale\": \"Because this bookstore website looks promising\"}], \"portfolio_value_time_series\": [[\"2025-09-15 09:08:14\", 9756.4], [\"2025-09-15 09:08:16\", 9927.4], [\"2025-09-15 09:21:21\", 9810.4], [\"2025-09-15 09:21:26\", 9732.4]], \"total_portfolio_value\": 9732.4, \"total_profit_loss\": -267.60000000000036}'"
      ]
     },
     "execution_count": 14,
     "metadata": {},
     "output_type": "execute_result"
    }
   ],
   "source": [
    "from accounts import Account\n",
    "Account.get(\"ed\").report()"
   ]
  },
  {
   "cell_type": "markdown",
   "metadata": {},
   "source": [
    "<table style=\"margin: 0; text-align: left; width:100%\">\n",
    "    <tr>\n",
    "        <td style=\"width: 150px; height: 150px; vertical-align: middle;\">\n",
    "            <img src=\"../assets/exercise.png\" width=\"150\" height=\"150\" style=\"display: block;\" />\n",
    "        </td>\n",
    "        <td>\n",
    "            <h2 style=\"color:#ff7800;\">Exercises</h2>\n",
    "            <span style=\"color:#ff7800;\">Make your own MCP Server! Make a simple function to return the current Date, and expose it as a tool so that an Agent can tell you today's date.<br/>Harder optional exercise: then make an MCP Client, and use a native OpenAI call (without the Agents SDK) to use your tool via your client.\n",
    "            </span>\n",
    "        </td>\n",
    "    </tr>\n",
    "</table>"
   ]
  }
 ],
 "metadata": {
  "kernelspec": {
   "display_name": ".venv",
   "language": "python",
   "name": "python3"
  },
  "language_info": {
   "codemirror_mode": {
    "name": "ipython",
    "version": 3
   },
   "file_extension": ".py",
   "mimetype": "text/x-python",
   "name": "python",
   "nbconvert_exporter": "python",
   "pygments_lexer": "ipython3",
   "version": "3.12.10"
  }
 },
 "nbformat": 4,
 "nbformat_minor": 2
}
