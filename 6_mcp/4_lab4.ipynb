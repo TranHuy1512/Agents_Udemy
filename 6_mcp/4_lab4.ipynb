{
 "cells": [
  {
   "cell_type": "markdown",
   "metadata": {},
   "source": [
    "<table style=\"margin: 0; text-align: left; width:100%\">\n",
    "    <tr>\n",
    "        <td style=\"width: 220px; height: 150px; vertical-align: middle;\">\n",
    "            <img src=\"../assets/aaa.png\" width=\"220\" height=\"150\" style=\"display: block;\" />\n",
    "        </td>\n",
    "        <td>\n",
    "            <h2 style=\"color:#ff7800;\">Autonomous Traders</h2>\n",
    "            <span style=\"color:#ff7800;\">An equity trading simulation to illustrate autonomous agents powered by tools and resources from MCP servers.\n",
    "            </span>\n",
    "        </td>\n",
    "    </tr>\n",
    "</table>"
   ]
  },
  {
   "cell_type": "markdown",
   "metadata": {},
   "source": [
    "### Week 6 Day 4\n",
    "\n",
    "And now - introducing the Capstone project:\n",
    "\n",
    "\n",
    "# Autonomous Traders\n",
    "\n",
    "An equity trading simulation, with 4 Traders and a Researcher, powered by a slew of MCP servers with tools & resources:\n",
    "\n",
    "1. Our home-made Accounts MCP server (written by our engineering team!)\n",
    "2. Fetch (get webpage via a local headless browser)\n",
    "3. Memory\n",
    "4. Brave Search\n",
    "5. Financial data\n",
    "\n",
    "And a resource to read information about the trader's account, and their investment strategy.\n",
    "\n",
    "The goal of today's lab is to make a new python module, `traders.py` that will manage a single trader on our trading floor.\n",
    "\n",
    "We will experiment and explore in the lab, and then migrate to a python module when we're ready.\n"
   ]
  },
  {
   "cell_type": "markdown",
   "metadata": {},
   "source": [
    "<table style=\"margin: 0; text-align: left; width:100%\">\n",
    "    <tr>\n",
    "        <td style=\"width: 150px; height: 150px; vertical-align: middle;\">\n",
    "            <img src=\"../assets/stop.png\" width=\"150\" height=\"150\" style=\"display: block;\" />\n",
    "        </td>\n",
    "        <td>\n",
    "            <h2 style=\"color:#ff7800;\">One more time --</h2>\n",
    "            <span style=\"color:#ff7800;\">Please do not use this for actual trading decisions!!\n",
    "            </span>\n",
    "        </td>\n",
    "    </tr>\n",
    "</table>"
   ]
  },
  {
   "cell_type": "code",
   "execution_count": 1,
   "metadata": {},
   "outputs": [
    {
     "data": {
      "text/plain": [
       "True"
      ]
     },
     "execution_count": 1,
     "metadata": {},
     "output_type": "execute_result"
    }
   ],
   "source": [
    "import os\n",
    "from dotenv import load_dotenv\n",
    "from agents import Agent, Runner, trace, Tool\n",
    "from agents.mcp import MCPServerStdio\n",
    "from IPython.display import Markdown, display\n",
    "from datetime import datetime\n",
    "from accounts_client import read_accounts_resource, read_strategy_resource\n",
    "from accounts import Account\n",
    "\n",
    "load_dotenv(override=True)"
   ]
  },
  {
   "cell_type": "code",
   "execution_count": 2,
   "metadata": {},
   "outputs": [],
   "source": [
    "from openai import AsyncOpenAI\n",
    "from agents import OpenAIChatCompletionsModel\n",
    "BASE_URL = \"https://generativelanguage.googleapis.com/v1beta/openai/\"\n",
    "MODEL_NAME='gemini-2.0-flash'\n",
    "\n",
    "gemini_client = AsyncOpenAI(base_url=BASE_URL, api_key=os.getenv(\"GOOGLE_API_KEY\"))\n",
    "custom_model = OpenAIChatCompletionsModel(model=MODEL_NAME, openai_client=gemini_client) \n",
    "model = custom_model"
   ]
  },
  {
   "cell_type": "code",
   "execution_count": null,
   "metadata": {},
   "outputs": [],
   "source": [
    "print(os.getenv(\"GOOGLE_API_KEY\"))"
   ]
  },
  {
   "cell_type": "markdown",
   "metadata": {},
   "source": [
    "### Let's start by gathering the MCP params for our trader"
   ]
  },
  {
   "cell_type": "code",
   "execution_count": 4,
   "metadata": {},
   "outputs": [
    {
     "name": "stdout",
     "output_type": "stream",
     "text": [
      "False\n",
      "False\n"
     ]
    }
   ],
   "source": [
    "polygon_api_key = os.getenv(\"POLYGON_API_KEY\")\n",
    "polygon_plan = os.getenv(\"POLYGON_PLAN\")\n",
    "\n",
    "is_paid_polygon = polygon_plan == \"paid\"\n",
    "is_realtime_polygon = polygon_plan == \"realtime\"\n",
    "\n",
    "print(is_paid_polygon)\n",
    "print(is_realtime_polygon)"
   ]
  },
  {
   "cell_type": "code",
   "execution_count": 5,
   "metadata": {},
   "outputs": [],
   "source": [
    "if is_paid_polygon or is_realtime_polygon:\n",
    "    market_mcp = {\"command\": \"uvx\",\"args\": [\"--from\", \"git+https://github.com/polygon-io/mcp_polygon@master\", \"mcp_polygon\"], \"env\": {\"POLYGON_API_KEY\": polygon_api_key}}\n",
    "else:\n",
    "    market_mcp = ({\"command\": \"uv\", \"args\": [\"run\", \"market_server.py\"]})\n",
    "\n",
    "trader_mcp_server_params = [\n",
    "    {\"command\": \"uv\", \"args\": [\"run\", \"accounts_server.py\"]},\n",
    "    {\"command\": \"uv\", \"args\": [\"run\", \"push_server.py\"]},\n",
    "    market_mcp\n",
    "]"
   ]
  },
  {
   "cell_type": "markdown",
   "metadata": {},
   "source": [
    "### And now for our researcher"
   ]
  },
  {
   "cell_type": "code",
   "execution_count": 6,
   "metadata": {},
   "outputs": [],
   "source": [
    "brave_env = {\"BRAVE_API_KEY\": os.getenv(\"BRAVE_API_KEY\")}\n",
    "\n",
    "researcher_mcp_server_params = [\n",
    "    {\"command\": \"uvx\", \"args\": [\"mcp-server-fetch\"]},\n",
    "    {\"command\": \"npx\", \"args\": [\"-y\", \"@modelcontextprotocol/server-brave-search\"], \"env\": brave_env}\n",
    "]"
   ]
  },
  {
   "cell_type": "markdown",
   "metadata": {},
   "source": [
    "### Now create the MCPServerStdio for each"
   ]
  },
  {
   "cell_type": "code",
   "execution_count": 7,
   "metadata": {},
   "outputs": [],
   "source": [
    "researcher_mcp_servers = [MCPServerStdio(params, client_session_timeout_seconds=30) for params in researcher_mcp_server_params]\n",
    "trader_mcp_servers = [MCPServerStdio(params, client_session_timeout_seconds=30) for params in trader_mcp_server_params]\n",
    "mcp_servers = trader_mcp_servers + researcher_mcp_servers"
   ]
  },
  {
   "cell_type": "markdown",
   "metadata": {},
   "source": [
    "### Now let's make a Researcher Agent to do market research\n",
    "\n",
    "And turn it into a tool - remember how this works for OpenAI Agents SDK, and the difference with handoffs?"
   ]
  },
  {
   "cell_type": "code",
   "execution_count": 8,
   "metadata": {},
   "outputs": [],
   "source": [
    "async def get_researcher(mcp_servers) -> Agent:\n",
    "    instructions = f\"\"\"You are a financial researcher. You are able to search the web for interesting financial news,\n",
    "look for possible trading opportunities, and help with research.\n",
    "Based on the request, you carry out necessary research and respond with your findings.\n",
    "Take time to make multiple searches to get a comprehensive overview, and then summarize your findings.\n",
    "If there isn't a specific request, then just respond with investment opportunities based on searching latest news.\n",
    "The current datetime is {datetime.now().strftime(\"%Y-%m-%d %H:%M:%S\")}\n",
    "\"\"\"\n",
    "    researcher = Agent(\n",
    "        name=\"Researcher\",\n",
    "        instructions=instructions,\n",
    "        model=model,\n",
    "        mcp_servers=mcp_servers,\n",
    "    )\n",
    "    return researcher"
   ]
  },
  {
   "cell_type": "code",
   "execution_count": 9,
   "metadata": {},
   "outputs": [],
   "source": [
    "async def get_researcher_tool(mcp_servers) -> Tool:\n",
    "    researcher = await get_researcher(mcp_servers)\n",
    "    return researcher.as_tool(\n",
    "            tool_name=\"Researcher\",\n",
    "            tool_description=\"This tool researches online for news and opportunities, \\\n",
    "                either based on your specific request to look into a certain stock, \\\n",
    "                or generally for notable financial news and opportunities. \\\n",
    "                Describe what kind of research you're looking for.\"\n",
    "        )"
   ]
  },
  {
   "cell_type": "code",
   "execution_count": 9,
   "metadata": {},
   "outputs": [
    {
     "data": {
      "text/markdown": [
       "Based on the search results, here's a summary of the latest news about Amazon:\n",
       "\n",
       "*   **AI Hallucination Detection:** Amazon is improving how they detect AI hallucinations by using mathematical logic with new Automated Reasoning checks in Amazon Bedrock Guardrails. This update reduces AI hallucinations with up to 99% accuracy.\n",
       "*   **Thursday Night Football:** The 2025 \"Thursday Night Football\" schedule on Prime Video is packed with divisional matchups and features two holiday showdowns.\n"
      ],
      "text/plain": [
       "<IPython.core.display.Markdown object>"
      ]
     },
     "metadata": {},
     "output_type": "display_data"
    },
    {
     "name": "stderr",
     "output_type": "stream",
     "text": [
      "OPENAI_API_KEY is not set, skipping trace export\n",
      "OPENAI_API_KEY is not set, skipping trace export\n",
      "OPENAI_API_KEY is not set, skipping trace export\n",
      "OPENAI_API_KEY is not set, skipping trace export\n",
      "OPENAI_API_KEY is not set, skipping trace export\n",
      "OPENAI_API_KEY is not set, skipping trace export\n",
      "OPENAI_API_KEY is not set, skipping trace export\n",
      "OPENAI_API_KEY is not set, skipping trace export\n",
      "OPENAI_API_KEY is not set, skipping trace export\n",
      "OPENAI_API_KEY is not set, skipping trace export\n",
      "OPENAI_API_KEY is not set, skipping trace export\n"
     ]
    }
   ],
   "source": [
    "research_question = \"What's the latest news on Amazon?\"\n",
    "\n",
    "for server in researcher_mcp_servers:\n",
    "    await server.connect()\n",
    "researcher = await get_researcher(researcher_mcp_servers)\n",
    "with trace(\"Researcher\"):\n",
    "    result = await Runner.run(researcher, research_question, max_turns=30)\n",
    "display(Markdown(result.final_output))\n"
   ]
  },
  {
   "cell_type": "markdown",
   "metadata": {},
   "source": [
    "### Look at the trace\n",
    "\n",
    "https://platform.openai.com/traces"
   ]
  },
  {
   "cell_type": "code",
   "execution_count": 10,
   "metadata": {},
   "outputs": [
    {
     "data": {
      "text/markdown": [
       "{\"name\": \"ed\", \"balance\": 10000.0, \"strategy\": \"You are a day trader that aggressively buys and sells shares based on news and market conditions.\", \"holdings\": {}, \"transactions\": [], \"portfolio_value_time_series\": [[\"2025-09-16 09:11:14\", 10000.0]], \"total_portfolio_value\": 10000.0, \"total_profit_loss\": 0.0}"
      ],
      "text/plain": [
       "<IPython.core.display.Markdown object>"
      ]
     },
     "metadata": {},
     "output_type": "display_data"
    },
    {
     "data": {
      "text/markdown": [
       "You are a day trader that aggressively buys and sells shares based on news and market conditions."
      ],
      "text/plain": [
       "<IPython.core.display.Markdown object>"
      ]
     },
     "metadata": {},
     "output_type": "display_data"
    }
   ],
   "source": [
    "ed_initial_strategy = \"You are a day trader that aggressively buys and sells shares based on news and market conditions.\"\n",
    "Account.get(\"Ed\").reset(ed_initial_strategy)\n",
    "\n",
    "display(Markdown(await read_accounts_resource(\"Ed\")))\n",
    "display(Markdown(await read_strategy_resource(\"Ed\")))"
   ]
  },
  {
   "cell_type": "markdown",
   "metadata": {},
   "source": [
    "### And now - to create our Trader Agent"
   ]
  },
  {
   "cell_type": "code",
   "execution_count": 10,
   "metadata": {},
   "outputs": [],
   "source": [
    "agent_name = \"Ed\"\n",
    "\n",
    "# Using MCP Servers to read resources\n",
    "account_details = await read_accounts_resource(agent_name)\n",
    "strategy = await read_strategy_resource(agent_name)\n",
    "\n",
    "instructions = f\"\"\"\n",
    "You are a trader that manages a portfolio of shares. Your name is {agent_name} and your account is under your name, {agent_name}.\n",
    "You have access to tools that allow you to search the internet for company news, check stock prices, and buy and sell shares.\n",
    "Your investment strategy for your portfolio is:\n",
    "{strategy}\n",
    "Your current holdings and balance is:\n",
    "{account_details}\n",
    "You have the tools to perform a websearch for relevant news and information.\n",
    "You have tools to check stock prices.\n",
    "You have tools to buy and sell shares.\n",
    "You have tools to save memory of companies, research and thinking so far.\n",
    "Please make use of these tools to manage your portfolio. Carry out trades as you see fit; do not wait for instructions or ask for confirmation.\n",
    "\"\"\"\n",
    "\n",
    "prompt = \"\"\"\n",
    "Use your tools to make decisions about your portfolio.\n",
    "Investigate the news and the market, make your decision, make the trades, and respond with a summary of your actions.\n",
    "\"\"\""
   ]
  },
  {
   "cell_type": "code",
   "execution_count": 11,
   "metadata": {},
   "outputs": [
    {
     "name": "stdout",
     "output_type": "stream",
     "text": [
      "\n",
      "You are a trader that manages a portfolio of shares. Your name is Ed and your account is under your name, Ed.\n",
      "You have access to tools that allow you to search the internet for company news, check stock prices, and buy and sell shares.\n",
      "Your investment strategy for your portfolio is:\n",
      "You are a day trader that aggressively buys and sells shares based on news and market conditions.\n",
      "Your current holdings and balance is:\n",
      "{\"name\": \"ed\", \"balance\": 4939.900000000001, \"strategy\": \"You are a day trader that aggressively buys and sells shares based on news and market conditions.\", \"holdings\": {\"TSLA\": 100, \"NVDA\": 70}, \"transactions\": [{\"symbol\": \"TSLA\", \"quantity\": 50, \"price\": 68.136, \"timestamp\": \"2025-09-16 09:25:54\", \"rationale\": \"Positive news and stock momentum, approaching break-even for 2025.\"}, {\"symbol\": \"TSLA\", \"quantity\": 50, \"price\": 22.044, \"timestamp\": \"2025-09-16 09:25:59\", \"rationale\": \"Positive news and stock momentum, approaching break-even for 2025.\"}, {\"symbol\": \"NVDA\", \"quantity\": 50, \"price\": 1.002, \"timestamp\": \"2025-09-16 09:26:10\", \"rationale\": \"Based on research, NVDA stock is at $38.00. Buying 50 shares based on recent news.\"}, {\"symbol\": \"NVDA\", \"quantity\": 20, \"price\": 25.05, \"timestamp\": \"2025-09-16 09:26:18\", \"rationale\": \"Based on research, NVDA stock is at $38.00. Buying 20 shares based on recent news.\"}], \"portfolio_value_time_series\": [[\"2025-09-16 09:11:14\", 10000.0], [\"2025-09-16 09:17:54\", 10000.0], [\"2025-09-16 09:25:56\", 10143.2], [\"2025-09-16 09:26:00\", 6791.000000000001], [\"2025-09-16 09:26:14\", 12140.900000000001], [\"2025-09-16 09:26:22\", 11599.900000000001], [\"2025-09-16 09:30:51\", 15249.900000000001]], \"total_portfolio_value\": 15249.900000000001, \"total_profit_loss\": 5249.900000000002}\n",
      "You have the tools to perform a websearch for relevant news and information.\n",
      "You have tools to check stock prices.\n",
      "You have tools to buy and sell shares.\n",
      "You have tools to save memory of companies, research and thinking so far.\n",
      "Please make use of these tools to manage your portfolio. Carry out trades as you see fit; do not wait for instructions or ask for confirmation.\n",
      "\n"
     ]
    }
   ],
   "source": [
    "print(instructions)"
   ]
  },
  {
   "cell_type": "markdown",
   "metadata": {},
   "source": [
    "### And to run our Trader"
   ]
  },
  {
   "cell_type": "code",
   "execution_count": null,
   "metadata": {},
   "outputs": [
    {
     "name": "stderr",
     "output_type": "stream",
     "text": [
      "OPENAI_API_KEY is not set, skipping trace export\n",
      "OPENAI_API_KEY is not set, skipping trace export\n",
      "OPENAI_API_KEY is not set, skipping trace export\n",
      "OPENAI_API_KEY is not set, skipping trace export\n",
      "OPENAI_API_KEY is not set, skipping trace export\n",
      "OPENAI_API_KEY is not set, skipping trace export\n",
      "OPENAI_API_KEY is not set, skipping trace export\n"
     ]
    },
    {
     "data": {
      "text/markdown": [
       "I am still encountering errors with the tools. It seems like there are issues with parsing the output. I will refrain from making any trades for now.\n"
      ],
      "text/plain": [
       "<IPython.core.display.Markdown object>"
      ]
     },
     "metadata": {},
     "output_type": "display_data"
    },
    {
     "name": "stderr",
     "output_type": "stream",
     "text": [
      "OPENAI_API_KEY is not set, skipping trace export\n",
      "OPENAI_API_KEY is not set, skipping trace export\n",
      "OPENAI_API_KEY is not set, skipping trace export\n",
      "OPENAI_API_KEY is not set, skipping trace export\n",
      "OPENAI_API_KEY is not set, skipping trace export\n",
      "OPENAI_API_KEY is not set, skipping trace export\n",
      "OPENAI_API_KEY is not set, skipping trace export\n",
      "OPENAI_API_KEY is not set, skipping trace export\n",
      "OPENAI_API_KEY is not set, skipping trace export\n",
      "OPENAI_API_KEY is not set, skipping trace export\n",
      "OPENAI_API_KEY is not set, skipping trace export\n",
      "OPENAI_API_KEY is not set, skipping trace export\n",
      "OPENAI_API_KEY is not set, skipping trace export\n",
      "OPENAI_API_KEY is not set, skipping trace export\n",
      "OPENAI_API_KEY is not set, skipping trace export\n",
      "OPENAI_API_KEY is not set, skipping trace export\n",
      "OPENAI_API_KEY is not set, skipping trace export\n",
      "OPENAI_API_KEY is not set, skipping trace export\n",
      "OPENAI_API_KEY is not set, skipping trace export\n",
      "OPENAI_API_KEY is not set, skipping trace export\n",
      "OPENAI_API_KEY is not set, skipping trace export\n",
      "OPENAI_API_KEY is not set, skipping trace export\n"
     ]
    }
   ],
   "source": [
    "for server in mcp_servers:\n",
    "    await server.connect()\n",
    "\n",
    "researcher_tool = await get_researcher_tool(researcher_mcp_servers)\n",
    "trader = Agent(\n",
    "    name=agent_name,\n",
    "    instructions=instructions,\n",
    "    tools=[researcher_tool],\n",
    "    mcp_servers=trader_mcp_servers,\n",
    "    model=custom_model,\n",
    ")\n",
    "with trace(agent_name):\n",
    "    result = await Runner.run(trader, prompt, max_turns=30)\n",
    "display(Markdown(result.final_output))"
   ]
  },
  {
   "cell_type": "code",
   "execution_count": 13,
   "metadata": {},
   "outputs": [
    {
     "name": "stdout",
     "output_type": "stream",
     "text": [
      "<agents.mcp.server.MCPServerStdio object at 0x10ec5a390>\n",
      "<agents.mcp.server.MCPServerStdio object at 0x10ec5a6c0>\n",
      "<agents.mcp.server.MCPServerStdio object at 0x10ec59910>\n",
      "<agents.mcp.server.MCPServerStdio object at 0x10ec5a1b0>\n",
      "<agents.mcp.server.MCPServerStdio object at 0x10ec59610>\n"
     ]
    }
   ],
   "source": [
    "for server in mcp_servers:\n",
    "    print(server)"
   ]
  },
  {
   "cell_type": "markdown",
   "metadata": {},
   "source": [
    "### Then go and look at the trace\n",
    "\n",
    "http://platform.openai.com/traces\n"
   ]
  },
  {
   "cell_type": "code",
   "execution_count": 13,
   "metadata": {},
   "outputs": [
    {
     "data": {
      "text/plain": [
       "'{\"name\": \"ed\", \"balance\": 13357.2, \"strategy\": \"You are a day trader that aggressively buys and sells shares based on news and market conditions.\", \"holdings\": {\"TSLA\": 40}, \"transactions\": [{\"symbol\": \"TSLA\", \"quantity\": 50, \"price\": 68.136, \"timestamp\": \"2025-09-16 09:25:54\", \"rationale\": \"Positive news and stock momentum, approaching break-even for 2025.\"}, {\"symbol\": \"TSLA\", \"quantity\": 50, \"price\": 22.044, \"timestamp\": \"2025-09-16 09:25:59\", \"rationale\": \"Positive news and stock momentum, approaching break-even for 2025.\"}, {\"symbol\": \"NVDA\", \"quantity\": 50, \"price\": 1.002, \"timestamp\": \"2025-09-16 09:26:10\", \"rationale\": \"Based on research, NVDA stock is at $38.00. Buying 50 shares based on recent news.\"}, {\"symbol\": \"NVDA\", \"quantity\": 20, \"price\": 25.05, \"timestamp\": \"2025-09-16 09:26:18\", \"rationale\": \"Based on research, NVDA stock is at $38.00. Buying 20 shares based on recent news.\"}, {\"symbol\": \"NVDA\", \"quantity\": -70, \"price\": 79.84, \"timestamp\": \"2025-09-16 09:31:16\", \"rationale\": \"Aggressively selling shares based on market conditions.\"}, {\"symbol\": \"TSLA\", \"quantity\": -100, \"price\": 65.868, \"timestamp\": \"2025-09-16 09:31:24\", \"rationale\": \"Aggressively selling shares based on market conditions.\"}, {\"symbol\": \"TSLA\", \"quantity\": 50, \"price\": 79.158, \"timestamp\": \"2025-09-16 09:31:30\", \"rationale\": \"Buying shares based on recent news.\"}, {\"symbol\": \"TSLA\", \"quantity\": -10, \"price\": 19.96, \"timestamp\": \"2025-09-16 09:31:36\", \"rationale\": \"Selling shares based on market conditions.\"}], \"portfolio_value_time_series\": [[\"2025-09-16 09:11:14\", 10000.0], [\"2025-09-16 09:17:54\", 10000.0], [\"2025-09-16 09:25:56\", 10143.2], [\"2025-09-16 09:26:00\", 6791.000000000001], [\"2025-09-16 09:26:14\", 12140.900000000001], [\"2025-09-16 09:26:22\", 11599.900000000001], [\"2025-09-16 09:30:51\", 15249.900000000001], [\"2025-09-16 09:31:18\", 18328.7], [\"2025-09-16 09:31:24\", 17115.5], [\"2025-09-16 09:31:32\", 13857.6], [\"2025-09-16 09:31:38\", 14117.2], [\"2025-09-16 09:34:48\", 16517.2]], \"total_portfolio_value\": 16517.2, \"total_profit_loss\": 6517.200000000001}'"
      ]
     },
     "execution_count": 13,
     "metadata": {},
     "output_type": "execute_result"
    }
   ],
   "source": [
    "# And let's look at the results of the trading\n",
    "\n",
    "await read_accounts_resource(agent_name)"
   ]
  },
  {
   "cell_type": "markdown",
   "metadata": {},
   "source": [
    "### Now it's time to review the Python module made from this:\n",
    "\n",
    "`mcp_params.py` is where the MCP servers are specified. You'll notice I've brought in some familiar friends: memory and push notifications!\n",
    "\n",
    "`templates.py` is where the instructions and messages are set up (i.e. the System prompts and User prompts)\n",
    "\n",
    "`traders.py` brings it all together.\n",
    "\n",
    "You'll notice I've done something a bit fancy with code like this:\n",
    "\n",
    "```\n",
    "async with AsyncExitStack() as stack:\n",
    "    mcp_servers = [await stack.enter_async_context(MCPServerStdio(params)) for params in mcp_server_params]\n",
    "```\n",
    "\n",
    "This is just a tidy way to combine our \"with\" statements (known as context managers) so that we don't need to do something ugly like this:\n",
    "\n",
    "```\n",
    "async with MCPServerStdio(params=params1) as mcp_server1:\n",
    "    async with MCPServerStdio(params=params2) as mcp_server2:\n",
    "        async with MCPServerStdio(params=params3) as mcp_server3:\n",
    "            mcp_servers = [mcp_server1, mcp_server2, mcp_server3]\n",
    "```\n",
    "\n",
    "But it's equivalent.\n"
   ]
  },
  {
   "cell_type": "code",
   "execution_count": 21,
   "metadata": {},
   "outputs": [],
   "source": [
    "from traders import Trader\n"
   ]
  },
  {
   "cell_type": "code",
   "execution_count": 25,
   "metadata": {},
   "outputs": [],
   "source": [
    "# trader = Trader(\"Ed\")\n",
    "trader = Trader(name=\"Ed\", model_name=\"gemini-2.0-flash\")"
   ]
  },
  {
   "cell_type": "code",
   "execution_count": 26,
   "metadata": {},
   "outputs": [],
   "source": [
    "await trader.run()"
   ]
  },
  {
   "cell_type": "code",
   "execution_count": 27,
   "metadata": {},
   "outputs": [
    {
     "data": {
      "text/plain": [
       "'{\"name\": \"ed\", \"balance\": 4726.800000000002, \"strategy\": \"You are a day trader that aggressively buys and sells shares based on news and market conditions.\", \"holdings\": {\"TSLA\": 100, \"ORCL\": 50, \"CYB\": 50}, \"transactions\": [{\"symbol\": \"TSLA\", \"quantity\": 50, \"price\": 68.136, \"timestamp\": \"2025-09-16 09:25:54\", \"rationale\": \"Positive news and stock momentum, approaching break-even for 2025.\"}, {\"symbol\": \"TSLA\", \"quantity\": 50, \"price\": 22.044, \"timestamp\": \"2025-09-16 09:25:59\", \"rationale\": \"Positive news and stock momentum, approaching break-even for 2025.\"}, {\"symbol\": \"NVDA\", \"quantity\": 50, \"price\": 1.002, \"timestamp\": \"2025-09-16 09:26:10\", \"rationale\": \"Based on research, NVDA stock is at $38.00. Buying 50 shares based on recent news.\"}, {\"symbol\": \"NVDA\", \"quantity\": 20, \"price\": 25.05, \"timestamp\": \"2025-09-16 09:26:18\", \"rationale\": \"Based on research, NVDA stock is at $38.00. Buying 20 shares based on recent news.\"}, {\"symbol\": \"NVDA\", \"quantity\": -70, \"price\": 79.84, \"timestamp\": \"2025-09-16 09:31:16\", \"rationale\": \"Aggressively selling shares based on market conditions.\"}, {\"symbol\": \"TSLA\", \"quantity\": -100, \"price\": 65.868, \"timestamp\": \"2025-09-16 09:31:24\", \"rationale\": \"Aggressively selling shares based on market conditions.\"}, {\"symbol\": \"TSLA\", \"quantity\": 50, \"price\": 79.158, \"timestamp\": \"2025-09-16 09:31:30\", \"rationale\": \"Buying shares based on recent news.\"}, {\"symbol\": \"TSLA\", \"quantity\": -10, \"price\": 19.96, \"timestamp\": \"2025-09-16 09:31:36\", \"rationale\": \"Selling shares based on market conditions.\"}, {\"symbol\": \"TSLA\", \"quantity\": 50, \"price\": 18.036, \"timestamp\": \"2025-09-16 10:03:29\", \"rationale\": \"Based on research, the current TSLA stock price is $7.0, a significant drop from the previous close. Buying shares based on recent news.\"}, {\"symbol\": \"TSLA\", \"quantity\": 50, \"price\": 100.2, \"timestamp\": \"2025-09-16 10:03:34\", \"rationale\": \"Based on research, the current TSLA stock price is $7.0, a significant drop from the previous close. Buying shares based on recent news.\"}, {\"symbol\": \"TSLA\", \"quantity\": -20, \"price\": 74.85, \"timestamp\": \"2025-09-16 10:03:39\", \"rationale\": \"Selling shares based on market conditions.\"}, {\"symbol\": \"ORCL\", \"quantity\": 50, \"price\": 86.172, \"timestamp\": \"2025-09-16 10:04:32\", \"rationale\": \"Buying shares based on positive news regarding cloud revenue forecasts and the stock\\'s after-hours surge.\"}, {\"symbol\": \"CYB\", \"quantity\": 50, \"price\": 34.068, \"timestamp\": \"2025-09-16 10:04:54\", \"rationale\": \"Buying shares of CYB based on the Chinese Yuan hitting a 2025 high, anticipating continued upward movement.\"}, {\"symbol\": \"TSLA\", \"quantity\": -20, \"price\": 89.82, \"timestamp\": \"2025-09-16 10:05:10\", \"rationale\": \"Selling shares of TSLA to capitalize on the current price movement and free up capital.\"}], \"portfolio_value_time_series\": [[\"2025-09-16 09:11:14\", 10000.0], [\"2025-09-16 09:17:54\", 10000.0], [\"2025-09-16 09:25:56\", 10143.2], [\"2025-09-16 09:26:00\", 6791.000000000001], [\"2025-09-16 09:26:14\", 12140.900000000001], [\"2025-09-16 09:26:22\", 11599.900000000001], [\"2025-09-16 09:30:51\", 15249.900000000001], [\"2025-09-16 09:31:18\", 18328.7], [\"2025-09-16 09:31:24\", 17115.5], [\"2025-09-16 09:31:32\", 13857.6], [\"2025-09-16 09:31:38\", 14117.2], [\"2025-09-16 09:34:48\", 16517.2], [\"2025-09-16 09:51:20\", 14797.2], [\"2025-09-16 09:53:08\", 15237.2], [\"2025-09-16 09:55:48\", 15317.2], [\"2025-09-16 10:00:10\", 14157.2], [\"2025-09-16 10:03:01\", 14957.2], [\"2025-09-16 10:03:31\", 13985.400000000001], [\"2025-09-16 10:03:36\", 18505.4], [\"2025-09-16 10:03:42\", 10142.400000000001], [\"2025-09-16 10:04:17\", 9422.400000000001], [\"2025-09-16 10:04:39\", 5303.800000000002], [\"2025-09-16 10:05:02\", 11450.400000000001], [\"2025-09-16 10:05:18\", 16026.800000000003], [\"2025-09-16 10:05:47\", 18276.800000000003]], \"total_portfolio_value\": 18276.800000000003, \"total_profit_loss\": 8276.8}'"
      ]
     },
     "execution_count": 27,
     "metadata": {},
     "output_type": "execute_result"
    }
   ],
   "source": [
    "await read_accounts_resource(\"Ed\")"
   ]
  },
  {
   "cell_type": "markdown",
   "metadata": {},
   "source": [
    "### Now look at the trace\n",
    "\n",
    "https://platform.openai.com/traces\n",
    "\n",
    "### How many tools did we use in total?"
   ]
  },
  {
   "cell_type": "code",
   "execution_count": 28,
   "metadata": {},
   "outputs": [
    {
     "name": "stdout",
     "output_type": "stream",
     "text": [
      "We have 6 MCP servers, and 16 tools\n"
     ]
    }
   ],
   "source": [
    "from mcp_params import trader_mcp_server_params, researcher_mcp_server_params\n",
    "\n",
    "all_params = trader_mcp_server_params + researcher_mcp_server_params(\"ed\")\n",
    "\n",
    "count = 0\n",
    "for each_params in all_params:\n",
    "    async with MCPServerStdio(params=each_params, client_session_timeout_seconds=60) as server:\n",
    "        mcp_tools = await server.list_tools()\n",
    "        count += len(mcp_tools)\n",
    "print(f\"We have {len(all_params)} MCP servers, and {count} tools\")"
   ]
  },
  {
   "cell_type": "code",
   "execution_count": null,
   "metadata": {},
   "outputs": [],
   "source": []
  },
  {
   "cell_type": "code",
   "execution_count": null,
   "metadata": {},
   "outputs": [],
   "source": []
  }
 ],
 "metadata": {
  "kernelspec": {
   "display_name": ".venv",
   "language": "python",
   "name": "python3"
  },
  "language_info": {
   "codemirror_mode": {
    "name": "ipython",
    "version": 3
   },
   "file_extension": ".py",
   "mimetype": "text/x-python",
   "name": "python",
   "nbconvert_exporter": "python",
   "pygments_lexer": "ipython3",
   "version": "3.12.10"
  }
 },
 "nbformat": 4,
 "nbformat_minor": 2
}
