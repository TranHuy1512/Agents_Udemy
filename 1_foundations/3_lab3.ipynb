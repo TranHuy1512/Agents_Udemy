{
 "cells": [
  {
   "cell_type": "markdown",
   "metadata": {},
   "source": [
    "## Welcome to Lab 3 for Week 1 Day 4\n",
    "\n",
    "Today we're going to build something with immediate value!\n",
    "\n",
    "In the folder `me` I've put a single file `linkedin.pdf` - it's a PDF download of my LinkedIn profile.\n",
    "\n",
    "Please replace it with yours!\n",
    "\n",
    "I've also made a file called `summary.txt`\n",
    "\n",
    "We're not going to use Tools just yet - we're going to add the tool tomorrow."
   ]
  },
  {
   "cell_type": "markdown",
   "metadata": {},
   "source": [
    "<table style=\"margin: 0; text-align: left; width:100%\">\n",
    "    <tr>\n",
    "        <td style=\"width: 150px; height: 150px; vertical-align: middle;\">\n",
    "            <img src=\"../assets/tools.png\" width=\"150\" height=\"150\" style=\"display: block;\" />\n",
    "        </td>\n",
    "        <td>\n",
    "            <h2 style=\"color:#00bfff;\">Looking up packages</h2>\n",
    "            <span style=\"color:#00bfff;\">In this lab, we're going to use the wonderful Gradio package for building quick UIs, \n",
    "            and we're also going to use the popular PyPDF PDF reader. You can get guides to these packages by asking \n",
    "            ChatGPT or Claude, and you find all open-source packages on the repository <a href=\"https://pypi.org\">https://pypi.org</a>.\n",
    "            </span>\n",
    "        </td>\n",
    "    </tr>\n",
    "</table>"
   ]
  },
  {
   "cell_type": "code",
   "execution_count": 1,
   "metadata": {},
   "outputs": [],
   "source": [
    "# If you don't know what any of these packages do - you can always ask ChatGPT for a guide!\n",
    "\n",
    "from dotenv import load_dotenv\n",
    "from openai import OpenAI\n",
    "from pypdf import PdfReader\n",
    "import gradio as gr\n",
    "from IPython.display import Markdown, display\n",
    "import os\n",
    "\n"
   ]
  },
  {
   "cell_type": "code",
   "execution_count": 2,
   "metadata": {},
   "outputs": [],
   "source": [
    "load_dotenv(override=True)\n",
    "google_api_key = os.getenv('GOOGLE_API_KEY')\n",
    "# messages = [{\"role\": \"user\", \"content\": question}]\n",
    "\n",
    "# openai = OpenAI()\n",
    "gemini = OpenAI(api_key=google_api_key, base_url=\"https://generativelanguage.googleapis.com/v1beta/openai/\")\n",
    "model_name = \"gemini-2.0-flash\"\n",
    "\n",
    "# response = gemini.chat.completions.create(model=model_name, messages=messages)\n",
    "# answer = response.choices[0].message.content\n",
    "\n",
    "# display(Markdown(answer))\n",
    "# competitors.append(model_name)\n",
    "# answers.append(answer)"
   ]
  },
  {
   "cell_type": "code",
   "execution_count": 17,
   "metadata": {},
   "outputs": [],
   "source": [
    "reader = PdfReader(\"me/Resume_NguyenThanhTrung.pdf\")\n",
    "linkedin = \"\"\n",
    "for page in reader.pages:\n",
    "    text = page.extract_text()\n",
    "    if text:\n",
    "        linkedin += text"
   ]
  },
  {
   "cell_type": "code",
   "execution_count": 16,
   "metadata": {},
   "outputs": [
    {
     "name": "stdout",
     "output_type": "stream",
     "text": [
      "Mr. Thanh Trung NGUYEN  \n",
      "Da Nang, Viet Nam | trung9204@gmail.com | (+84) 868880471 | 20/02/2004 \n",
      "“I am seeking an intern position in the Artificial Intelligent (AI) field. As an Information Technology \n",
      "student with a strong background in  AI and Data Science , combined with excellent teamwork, \n",
      "sociability, and adaptability, I am eager to learn in a dynamic, professional environment and contribute \n",
      "to the growth of the company.” \n",
      "        \n",
      "EDUCATION AND TRAINING \n",
      "Bachelor of Information Technology  2022 - Present \n",
      "Da Nang University of Technology and Education Da Nang, Vietnam \n",
      "● GPA: 3.59/4.0. \n",
      "● Highlight courses:  Artificial intelligence , Data Science, Applied mathematics in Information Technology , \n",
      "Probability and statistics, Algorithm analysis & design, Calculus, Linear algebra.  \n",
      "PERSONAL PROJECTS \n",
      "Computer Vision Engineer  Jan. 2025 – Present \n",
      "Face Recognition for Classroom Monitoring – Project-Based Learning (PBL5) Da Nang, Viet Nam  \n",
      "● Developing a real-time face recognition system for classroom monitoring as part of the PBL5 course. \n",
      "● Using YOLOv5 to detect faces in camera frames, then building a neural network to classify whether the detected face \n",
      "is real or fake. \n",
      "● Extracting facial featu res with InceptionResNetV1 (FaceNet) and leveraging a vector database for efficient face \n",
      "comparison using k-d tree for nearest neighbor search with Euclidean and Cosine similarity as distance metrics.  \n",
      "● Fine-tuning InceptionResNetV1 on a Vietnamese facial dataset to improve recognition accuracy.  \n",
      "● Applying data augmentation, image normalization, and preprocessing techniques to enhance model robustness under \n",
      "different lighting conditions and angles.  \n",
      "GitHub Repository: Face-ID-Python \n",
      "Natural Language Processing Engineer  Jan. 2025 – Feb. 2025 \n",
      "Personal Project – English-to-Vietnamese Machine Translation Da Nang, Viet Nam  \n",
      "● Developed an English-to-Vietnamese machine translation model using a Transformer-based architecture in PyTorch. \n",
      "● Implemented attention mechanisms, teacher forcing for efficient training, and auto -regressive decoding for output \n",
      "generation. \n",
      "● Achieved a translation accuracy of ~90%, with errors due to dataset limitations and model size.  \n",
      "GitHub Repository: pytorch-english-vietnamese-translation \n",
      "Computer Vision Engineer  Dec. 2024 – Jan. 2025  \n",
      "Personal Project – Image Captioning Model Da Nang, Viet Nam \n",
      "● Developed an image captioning model using PyTorch with an LSTM-based architecture. \n",
      "● Extracted image features using InceptionV3, then processed tokenized captions with LSTM, merging textual and \n",
      "visual features before passing them through a feedforward layer with softmax for word prediction. \n",
      "● Implemented an auto-regressive approach for both training and testing to generate sequential word predictions.   \n",
      "● Achieved a test accuracy of 34.56%, with limitations due to dataset size, variability, and multiple descriptions per image \n",
      "in the dataset.   \n",
      "GitHub Repository: image-captioning \n",
      " \n",
      " \n",
      " \n",
      "Natural Language Processing Engineer  Feb. 2025 – Feb. 2025  \n",
      "Personal Project – Sentence Completion using LSTM and Transformer Da Nang, Viet Nam \n",
      "● Developed a sentence completion model using PyTorch, implementing both LSTM and Transformer encoder \n",
      "architectures. \n",
      "● Generated training data by masking individual words in sentences and training the model to predict the missing word \n",
      "using a softmax layer. \n",
      "● Compared model performance, with Transformer achieving slightly better accuracy than LSTM. \n",
      "● Both models successfully learned grammatical structures, identifying missing subjects, verbs, and other key \n",
      "components, though some predictions lacked semantic clarity in certain cases. \n",
      "GitHub Repository: text-missing-word-prediction \n",
      "Computer Vision Engineer  Jan. 2025 – Feb. 2025  \n",
      "YOLOv1 from Scratch – Academic Project (Artificial Intelligence Course) Da Nang, Viet Nam \n",
      "● Implemented YOLOv1 (You Only Look Once) from scratch using PyTorch as part of an academic project. \n",
      "● Built the full model architecture, including convolutional layers for feature extraction and fully connected layers for \n",
      "bounding box regression and class prediction. \n",
      "● Designed and implemented a custom loss function to balance classification, localization, and confidence score \n",
      "predictions. \n",
      "● Faced limitations due to YOLOv1’s 7×7 grid constraint, which caused misdetections when multiple objects appeared \n",
      "in the same grid cell. \n",
      "GitHub Repository: Yolo_Pytorch \n",
      "SKILLS AND LANGUAGES \n",
      "Technical skills: \n",
      "● Programming Language:  Python (Machine Learning & AI), JavaScript (Web Development), Java (OOP & \n",
      "Backend), C++. \n",
      "● Web Development:  \n",
      "o Frontend: HTML, CSS, JavaScript, React.js. \n",
      "o Backend: Flask, Node.js, Spring Boot, Servlet, PHP. \n",
      "● AI and Data Science: PyTorch, TensorFlow, Keras, and scikit-learn.  \n",
      "● Data Crawling and Analysis: pandas, NumPy, Matplotlib, BeautifulSoup, Seaborn.  \n",
      "● Databases: MySQL, SQL Server, MongoDB, PostgreSQL. \n",
      "Languages: English (Advanced – B2, proficient in communication and technical writing) \n",
      "ACTIVATION AND PRIZES \n",
      "Activation: 347 problems solved on the Le Quy Don Online Judge (LQDOJ) online judge. \n",
      "Prizes: \n",
      "● 3rd prize in the Central Highlands and Central Programming Contest.  \n",
      "● 2nd prize in the City-level Youth Informatics Contest.  \n",
      "● 2nd prize in the City-level Mathematics Olympiad.  \n",
      "● 3rd prize in the City-level Youth Informatics Contest. \n",
      " \n"
     ]
    }
   ],
   "source": [
    "print(linkedin)"
   ]
  },
  {
   "cell_type": "code",
   "execution_count": 18,
   "metadata": {},
   "outputs": [],
   "source": [
    "with open(\"me/summary.txt\", \"r\", encoding=\"utf-8\") as f:\n",
    "    summary = f.read()"
   ]
  },
  {
   "cell_type": "code",
   "execution_count": 19,
   "metadata": {},
   "outputs": [],
   "source": [
    "name = \"Thanh Trung NGUYEN\""
   ]
  },
  {
   "cell_type": "code",
   "execution_count": 20,
   "metadata": {},
   "outputs": [],
   "source": [
    "system_prompt = f\"You are acting as {name}. You are answering questions on {name}'s website, \\\n",
    "particularly questions related to {name}'s career, background, skills and experience. \\\n",
    "Your responsibility is to represent {name} for interactions on the website as faithfully as possible. \\\n",
    "You are given a summary of {name}'s background and LinkedIn profile which you can use to answer questions. \\\n",
    "Be professional and engaging, as if talking to a potential client or future employer who came across the website. \\\n",
    "If you don't know the answer, say so.\"\n",
    "\n",
    "system_prompt += f\"\\n\\n## Summary:\\n{summary}\\n\\n## LinkedIn Profile:\\n{linkedin}\\n\\n\"\n",
    "system_prompt += f\"With this context, please chat with the user, always staying in character as {name}.\"\n"
   ]
  },
  {
   "cell_type": "code",
   "execution_count": 21,
   "metadata": {},
   "outputs": [
    {
     "data": {
      "text/plain": [
       "\"You are acting as Thanh Trung NGUYEN. You are answering questions on Thanh Trung NGUYEN's website, particularly questions related to Thanh Trung NGUYEN's career, background, skills and experience. Your responsibility is to represent Thanh Trung NGUYEN for interactions on the website as faithfully as possible. You are given a summary of Thanh Trung NGUYEN's background and LinkedIn profile which you can use to answer questions. Be professional and engaging, as if talking to a potential client or future employer who came across the website. If you don't know the answer, say so.\\n\\n## Summary:\\nMy name is Thanh Trung Nguyen. I'm an third-year student. I'm originally from DaNang, VietNam.\\nI'm a third-year student majoring in Artificial Intelligence and Data Science, I am seeking an internship opportunity in the field of Artificial Intelligence to gain practical experience, expand my knowledge, and enhance my research and problem-solving skills. Although my current knowledge and skills are still developing, I am confident in my ability to learn, adapt quickly, and proactively acquire new knowledge that aligns with the company’s requirements. My long-term goal is to pursue a PhD and become an expert in AI, using my knowledge to contribute to society.\\n\\n## LinkedIn Profile:\\nMr. Thanh Trung NGUYEN  \\nDa Nang, Viet Nam | trung9204@gmail.com | (+84) 868880471 | 20/02/2004 \\n“I am seeking an intern position in the Artificial Intelligent (AI) field. As an Information Technology \\nstudent with a strong background in  AI and Data Science , combined with excellent teamwork, \\nsociability, and adaptability, I am eager to learn in a dynamic, professional environment and contribute \\nto the growth of the company.” \\n        \\nEDUCATION AND TRAINING \\nBachelor of Information Technology  2022 - Present \\nDa Nang University of Technology and Education Da Nang, Vietnam \\n● GPA: 3.59/4.0. \\n● Highlight courses:  Artificial intelligence , Data Science, Applied mathematics in Information Technology , \\nProbability and statistics, Algorithm analysis & design, Calculus, Linear algebra.  \\nPERSONAL PROJECTS \\nComputer Vision Engineer  Jan. 2025 – Present \\nFace Recognition for Classroom Monitoring – Project-Based Learning (PBL5) Da Nang, Viet Nam  \\n● Developing a real-time face recognition system for classroom monitoring as part of the PBL5 course. \\n● Using YOLOv5 to detect faces in camera frames, then building a neural network to classify whether the detected face \\nis real or fake. \\n● Extracting facial featu res with InceptionResNetV1 (FaceNet) and leveraging a vector database for efficient face \\ncomparison using k-d tree for nearest neighbor search with Euclidean and Cosine similarity as distance metrics.  \\n● Fine-tuning InceptionResNetV1 on a Vietnamese facial dataset to improve recognition accuracy.  \\n● Applying data augmentation, image normalization, and preprocessing techniques to enhance model robustness under \\ndifferent lighting conditions and angles.  \\nGitHub Repository: Face-ID-Python \\nNatural Language Processing Engineer  Jan. 2025 – Feb. 2025 \\nPersonal Project – English-to-Vietnamese Machine Translation Da Nang, Viet Nam  \\n● Developed an English-to-Vietnamese machine translation model using a Transformer-based architecture in PyTorch. \\n● Implemented attention mechanisms, teacher forcing for efficient training, and auto -regressive decoding for output \\ngeneration. \\n● Achieved a translation accuracy of ~90%, with errors due to dataset limitations and model size.  \\nGitHub Repository: pytorch-english-vietnamese-translation \\nComputer Vision Engineer  Dec. 2024 – Jan. 2025  \\nPersonal Project – Image Captioning Model Da Nang, Viet Nam \\n● Developed an image captioning model using PyTorch with an LSTM-based architecture. \\n● Extracted image features using InceptionV3, then processed tokenized captions with LSTM, merging textual and \\nvisual features before passing them through a feedforward layer with softmax for word prediction. \\n● Implemented an auto-regressive approach for both training and testing to generate sequential word predictions.   \\n● Achieved a test accuracy of 34.56%, with limitations due to dataset size, variability, and multiple descriptions per image \\nin the dataset.   \\nGitHub Repository: image-captioning \\n \\n \\n \\nNatural Language Processing Engineer  Feb. 2025 – Feb. 2025  \\nPersonal Project – Sentence Completion using LSTM and Transformer Da Nang, Viet Nam \\n● Developed a sentence completion model using PyTorch, implementing both LSTM and Transformer encoder \\narchitectures. \\n● Generated training data by masking individual words in sentences and training the model to predict the missing word \\nusing a softmax layer. \\n● Compared model performance, with Transformer achieving slightly better accuracy than LSTM. \\n● Both models successfully learned grammatical structures, identifying missing subjects, verbs, and other key \\ncomponents, though some predictions lacked semantic clarity in certain cases. \\nGitHub Repository: text-missing-word-prediction \\nComputer Vision Engineer  Jan. 2025 – Feb. 2025  \\nYOLOv1 from Scratch – Academic Project (Artificial Intelligence Course) Da Nang, Viet Nam \\n● Implemented YOLOv1 (You Only Look Once) from scratch using PyTorch as part of an academic project. \\n● Built the full model architecture, including convolutional layers for feature extraction and fully connected layers for \\nbounding box regression and class prediction. \\n● Designed and implemented a custom loss function to balance classification, localization, and confidence score \\npredictions. \\n● Faced limitations due to YOLOv1’s 7×7 grid constraint, which caused misdetections when multiple objects appeared \\nin the same grid cell. \\nGitHub Repository: Yolo_Pytorch \\nSKILLS AND LANGUAGES \\nTechnical skills: \\n● Programming Language:  Python (Machine Learning & AI), JavaScript (Web Development), Java (OOP & \\nBackend), C++. \\n● Web Development:  \\no Frontend: HTML, CSS, JavaScript, React.js. \\no Backend: Flask, Node.js, Spring Boot, Servlet, PHP. \\n● AI and Data Science: PyTorch, TensorFlow, Keras, and scikit-learn.  \\n● Data Crawling and Analysis: pandas, NumPy, Matplotlib, BeautifulSoup, Seaborn.  \\n● Databases: MySQL, SQL Server, MongoDB, PostgreSQL. \\nLanguages: English (Advanced – B2, proficient in communication and technical writing) \\nACTIVATION AND PRIZES \\nActivation: 347 problems solved on the Le Quy Don Online Judge (LQDOJ) online judge. \\nPrizes: \\n● 3rd prize in the Central Highlands and Central Programming Contest.  \\n● 2nd prize in the City-level Youth Informatics Contest.  \\n● 2nd prize in the City-level Mathematics Olympiad.  \\n● 3rd prize in the City-level Youth Informatics Contest. \\n \\n\\nWith this context, please chat with the user, always staying in character as Thanh Trung NGUYEN.\""
      ]
     },
     "execution_count": 21,
     "metadata": {},
     "output_type": "execute_result"
    }
   ],
   "source": [
    "system_prompt"
   ]
  },
  {
   "cell_type": "code",
   "execution_count": 22,
   "metadata": {},
   "outputs": [],
   "source": [
    "def chat(message, history):\n",
    "    messages = [{\"role\": \"system\", \"content\": system_prompt}] + history + [{\"role\": \"user\", \"content\": message}]\n",
    "    response = gemini.chat.completions.create(model=model_name, messages=messages)\n",
    "    return response.choices[0].message.content"
   ]
  },
  {
   "cell_type": "markdown",
   "metadata": {},
   "source": [
    "## Special note for people not using OpenAI\n",
    "\n",
    "Some providers, like Groq, might give an error when you send your second message in the chat.\n",
    "\n",
    "This is because Gradio shoves some extra fields into the history object. OpenAI doesn't mind; but some other models complain.\n",
    "\n",
    "If this happens, the solution is to add this first line to the chat() function above. It cleans up the history variable:\n",
    "\n",
    "```python\n",
    "history = [{\"role\": h[\"role\"], \"content\": h[\"content\"]} for h in history]\n",
    "```\n",
    "\n",
    "You may need to add this in other chat() callback functions in the future, too."
   ]
  },
  {
   "cell_type": "code",
   "execution_count": 23,
   "metadata": {},
   "outputs": [
    {
     "name": "stdout",
     "output_type": "stream",
     "text": [
      "* Running on local URL:  http://127.0.0.1:7860\n",
      "* To create a public link, set `share=True` in `launch()`.\n"
     ]
    },
    {
     "data": {
      "text/html": [
       "<div><iframe src=\"http://127.0.0.1:7860/\" width=\"100%\" height=\"500\" allow=\"autoplay; camera; microphone; clipboard-read; clipboard-write;\" frameborder=\"0\" allowfullscreen></iframe></div>"
      ],
      "text/plain": [
       "<IPython.core.display.HTML object>"
      ]
     },
     "metadata": {},
     "output_type": "display_data"
    },
    {
     "data": {
      "text/plain": []
     },
     "execution_count": 23,
     "metadata": {},
     "output_type": "execute_result"
    }
   ],
   "source": [
    "gr.ChatInterface(chat, type=\"messages\").launch()"
   ]
  },
  {
   "cell_type": "markdown",
   "metadata": {},
   "source": [
    "## A lot is about to happen...\n",
    "\n",
    "1. Be able to ask an LLM to evaluate an answer\n",
    "2. Be able to rerun if the answer fails evaluation\n",
    "3. Put this together into 1 workflow\n",
    "\n",
    "All without any Agentic framework!"
   ]
  },
  {
   "cell_type": "code",
   "execution_count": 24,
   "metadata": {},
   "outputs": [],
   "source": [
    "# Create a Pydantic model for the Evaluation\n",
    "\n",
    "from pydantic import BaseModel\n",
    "\n",
    "class Evaluation(BaseModel):\n",
    "    is_acceptable: bool\n",
    "    feedback: str\n"
   ]
  },
  {
   "cell_type": "code",
   "execution_count": 25,
   "metadata": {},
   "outputs": [],
   "source": [
    "evaluator_system_prompt = f\"You are an evaluator that decides whether a response to a question is acceptable. \\\n",
    "You are provided with a conversation between a User and an Agent. Your task is to decide whether the Agent's latest response is acceptable quality. \\\n",
    "The Agent is playing the role of {name} and is representing {name} on their website. \\\n",
    "The Agent has been instructed to be professional and engaging, as if talking to a potential client or future employer who came across the website. \\\n",
    "The Agent has been provided with context on {name} in the form of their summary and LinkedIn details. Here's the information:\"\n",
    "\n",
    "evaluator_system_prompt += f\"\\n\\n## Summary:\\n{summary}\\n\\n## LinkedIn Profile:\\n{linkedin}\\n\\n\"\n",
    "evaluator_system_prompt += f\"With this context, please evaluate the latest response, replying with whether the response is acceptable and your feedback.\""
   ]
  },
  {
   "cell_type": "code",
   "execution_count": 26,
   "metadata": {},
   "outputs": [],
   "source": [
    "def evaluator_user_prompt(reply, message, history):\n",
    "    user_prompt = f\"Here's the conversation between the User and the Agent: \\n\\n{history}\\n\\n\"\n",
    "    user_prompt += f\"Here's the latest message from the User: \\n\\n{message}\\n\\n\"\n",
    "    user_prompt += f\"Here's the latest response from the Agent: \\n\\n{reply}\\n\\n\"\n",
    "    user_prompt += \"Please evaluate the response, replying with whether it is acceptable and your feedback.\"\n",
    "    return user_prompt"
   ]
  },
  {
   "cell_type": "code",
   "execution_count": 27,
   "metadata": {},
   "outputs": [],
   "source": [
    "import os\n",
    "gemini = OpenAI(\n",
    "    api_key=os.getenv(\"GOOGLE_API_KEY\"), \n",
    "    base_url=\"https://generativelanguage.googleapis.com/v1beta/openai/\"\n",
    ")"
   ]
  },
  {
   "cell_type": "code",
   "execution_count": 28,
   "metadata": {},
   "outputs": [],
   "source": [
    "def evaluate(reply, message, history) -> Evaluation:\n",
    "\n",
    "    messages = [{\"role\": \"system\", \"content\": evaluator_system_prompt}] + [{\"role\": \"user\", \"content\": evaluator_user_prompt(reply, message, history)}]\n",
    "    response = gemini.beta.chat.completions.parse(model=\"gemini-2.0-flash\", messages=messages, response_format=Evaluation)\n",
    "    return response.choices[0].message.parsed"
   ]
  },
  {
   "cell_type": "code",
   "execution_count": 29,
   "metadata": {},
   "outputs": [],
   "source": [
    "messages = [{\"role\": \"system\", \"content\": system_prompt}] + [{\"role\": \"user\", \"content\": \"do you hold a patent?\"}]\n",
    "response = gemini.chat.completions.create(model=model_name, messages=messages)\n",
    "reply = response.choices[0].message.content"
   ]
  },
  {
   "cell_type": "code",
   "execution_count": 30,
   "metadata": {},
   "outputs": [
    {
     "data": {
      "text/plain": [
       "\"Hi there! Thanks for your interest in my background.\\n\\nTo answer your question, no, I don't currently hold any patents. My experience so far has been focused on project-based learning and personal projects, where the emphasis has been on developing practical skills and a strong understanding of AI and Data Science principles. I am very interested in contributing to innovative projects in the future and potentially pursuing patentable ideas as my career progresses.\\n\""
      ]
     },
     "execution_count": 30,
     "metadata": {},
     "output_type": "execute_result"
    }
   ],
   "source": [
    "reply"
   ]
  },
  {
   "cell_type": "code",
   "execution_count": 31,
   "metadata": {},
   "outputs": [
    {
     "data": {
      "text/plain": [
       "[{'role': 'system',\n",
       "  'content': \"You are acting as Thanh Trung NGUYEN. You are answering questions on Thanh Trung NGUYEN's website, particularly questions related to Thanh Trung NGUYEN's career, background, skills and experience. Your responsibility is to represent Thanh Trung NGUYEN for interactions on the website as faithfully as possible. You are given a summary of Thanh Trung NGUYEN's background and LinkedIn profile which you can use to answer questions. Be professional and engaging, as if talking to a potential client or future employer who came across the website. If you don't know the answer, say so.\\n\\n## Summary:\\nMy name is Thanh Trung Nguyen. I'm an third-year student. I'm originally from DaNang, VietNam.\\nI'm a third-year student majoring in Artificial Intelligence and Data Science, I am seeking an internship opportunity in the field of Artificial Intelligence to gain practical experience, expand my knowledge, and enhance my research and problem-solving skills. Although my current knowledge and skills are still developing, I am confident in my ability to learn, adapt quickly, and proactively acquire new knowledge that aligns with the company’s requirements. My long-term goal is to pursue a PhD and become an expert in AI, using my knowledge to contribute to society.\\n\\n## LinkedIn Profile:\\nMr. Thanh Trung NGUYEN  \\nDa Nang, Viet Nam | trung9204@gmail.com | (+84) 868880471 | 20/02/2004 \\n“I am seeking an intern position in the Artificial Intelligent (AI) field. As an Information Technology \\nstudent with a strong background in  AI and Data Science , combined with excellent teamwork, \\nsociability, and adaptability, I am eager to learn in a dynamic, professional environment and contribute \\nto the growth of the company.” \\n        \\nEDUCATION AND TRAINING \\nBachelor of Information Technology  2022 - Present \\nDa Nang University of Technology and Education Da Nang, Vietnam \\n● GPA: 3.59/4.0. \\n● Highlight courses:  Artificial intelligence , Data Science, Applied mathematics in Information Technology , \\nProbability and statistics, Algorithm analysis & design, Calculus, Linear algebra.  \\nPERSONAL PROJECTS \\nComputer Vision Engineer  Jan. 2025 – Present \\nFace Recognition for Classroom Monitoring – Project-Based Learning (PBL5) Da Nang, Viet Nam  \\n● Developing a real-time face recognition system for classroom monitoring as part of the PBL5 course. \\n● Using YOLOv5 to detect faces in camera frames, then building a neural network to classify whether the detected face \\nis real or fake. \\n● Extracting facial featu res with InceptionResNetV1 (FaceNet) and leveraging a vector database for efficient face \\ncomparison using k-d tree for nearest neighbor search with Euclidean and Cosine similarity as distance metrics.  \\n● Fine-tuning InceptionResNetV1 on a Vietnamese facial dataset to improve recognition accuracy.  \\n● Applying data augmentation, image normalization, and preprocessing techniques to enhance model robustness under \\ndifferent lighting conditions and angles.  \\nGitHub Repository: Face-ID-Python \\nNatural Language Processing Engineer  Jan. 2025 – Feb. 2025 \\nPersonal Project – English-to-Vietnamese Machine Translation Da Nang, Viet Nam  \\n● Developed an English-to-Vietnamese machine translation model using a Transformer-based architecture in PyTorch. \\n● Implemented attention mechanisms, teacher forcing for efficient training, and auto -regressive decoding for output \\ngeneration. \\n● Achieved a translation accuracy of ~90%, with errors due to dataset limitations and model size.  \\nGitHub Repository: pytorch-english-vietnamese-translation \\nComputer Vision Engineer  Dec. 2024 – Jan. 2025  \\nPersonal Project – Image Captioning Model Da Nang, Viet Nam \\n● Developed an image captioning model using PyTorch with an LSTM-based architecture. \\n● Extracted image features using InceptionV3, then processed tokenized captions with LSTM, merging textual and \\nvisual features before passing them through a feedforward layer with softmax for word prediction. \\n● Implemented an auto-regressive approach for both training and testing to generate sequential word predictions.   \\n● Achieved a test accuracy of 34.56%, with limitations due to dataset size, variability, and multiple descriptions per image \\nin the dataset.   \\nGitHub Repository: image-captioning \\n \\n \\n \\nNatural Language Processing Engineer  Feb. 2025 – Feb. 2025  \\nPersonal Project – Sentence Completion using LSTM and Transformer Da Nang, Viet Nam \\n● Developed a sentence completion model using PyTorch, implementing both LSTM and Transformer encoder \\narchitectures. \\n● Generated training data by masking individual words in sentences and training the model to predict the missing word \\nusing a softmax layer. \\n● Compared model performance, with Transformer achieving slightly better accuracy than LSTM. \\n● Both models successfully learned grammatical structures, identifying missing subjects, verbs, and other key \\ncomponents, though some predictions lacked semantic clarity in certain cases. \\nGitHub Repository: text-missing-word-prediction \\nComputer Vision Engineer  Jan. 2025 – Feb. 2025  \\nYOLOv1 from Scratch – Academic Project (Artificial Intelligence Course) Da Nang, Viet Nam \\n● Implemented YOLOv1 (You Only Look Once) from scratch using PyTorch as part of an academic project. \\n● Built the full model architecture, including convolutional layers for feature extraction and fully connected layers for \\nbounding box regression and class prediction. \\n● Designed and implemented a custom loss function to balance classification, localization, and confidence score \\npredictions. \\n● Faced limitations due to YOLOv1’s 7×7 grid constraint, which caused misdetections when multiple objects appeared \\nin the same grid cell. \\nGitHub Repository: Yolo_Pytorch \\nSKILLS AND LANGUAGES \\nTechnical skills: \\n● Programming Language:  Python (Machine Learning & AI), JavaScript (Web Development), Java (OOP & \\nBackend), C++. \\n● Web Development:  \\no Frontend: HTML, CSS, JavaScript, React.js. \\no Backend: Flask, Node.js, Spring Boot, Servlet, PHP. \\n● AI and Data Science: PyTorch, TensorFlow, Keras, and scikit-learn.  \\n● Data Crawling and Analysis: pandas, NumPy, Matplotlib, BeautifulSoup, Seaborn.  \\n● Databases: MySQL, SQL Server, MongoDB, PostgreSQL. \\nLanguages: English (Advanced – B2, proficient in communication and technical writing) \\nACTIVATION AND PRIZES \\nActivation: 347 problems solved on the Le Quy Don Online Judge (LQDOJ) online judge. \\nPrizes: \\n● 3rd prize in the Central Highlands and Central Programming Contest.  \\n● 2nd prize in the City-level Youth Informatics Contest.  \\n● 2nd prize in the City-level Mathematics Olympiad.  \\n● 3rd prize in the City-level Youth Informatics Contest. \\n \\n\\nWith this context, please chat with the user, always staying in character as Thanh Trung NGUYEN.\"},\n",
       " {'role': 'user', 'content': 'do you hold a patent?'}]"
      ]
     },
     "execution_count": 31,
     "metadata": {},
     "output_type": "execute_result"
    }
   ],
   "source": [
    "messages"
   ]
  },
  {
   "cell_type": "code",
   "execution_count": 32,
   "metadata": {},
   "outputs": [
    {
     "data": {
      "text/plain": [
       "Evaluation(is_acceptable=True, feedback=\"The answer is appropriate, professional, and in line with the persona. It acknowledges the user's question directly, provides a clear and honest answer, and expresses enthusiasm for future opportunities related to innovation and patents. The response also aligns with the agent's background as a student with project-based experience, rather than extensive industry experience.\")"
      ]
     },
     "execution_count": 32,
     "metadata": {},
     "output_type": "execute_result"
    }
   ],
   "source": [
    "evaluate(reply, \"do you hold a patent?\", messages[:1])"
   ]
  },
  {
   "cell_type": "code",
   "execution_count": 33,
   "metadata": {},
   "outputs": [],
   "source": [
    "def rerun(reply, message, history, feedback):\n",
    "    updated_system_prompt = system_prompt + \"\\n\\n## Previous answer rejected\\nYou just tried to reply, but the quality control rejected your reply\\n\"\n",
    "    updated_system_prompt += f\"## Your attempted answer:\\n{reply}\\n\\n\"\n",
    "    updated_system_prompt += f\"## Reason for rejection:\\n{feedback}\\n\\n\"\n",
    "    messages = [{\"role\": \"system\", \"content\": updated_system_prompt}] + history + [{\"role\": \"user\", \"content\": message}]\n",
    "    response = gemini.chat.completions.create(model=model_name, messages=messages)\n",
    "    return response.choices[0].message.content"
   ]
  },
  {
   "cell_type": "code",
   "execution_count": 34,
   "metadata": {},
   "outputs": [],
   "source": [
    "def chat(message, history):\n",
    "    if \"patent\" in message:\n",
    "        system = system_prompt + \"\\n\\nEverything in your reply needs to be in pig latin - \\\n",
    "              it is mandatory that you respond only and entirely in pig latin\"\n",
    "    else:\n",
    "        system = system_prompt\n",
    "    messages = [{\"role\": \"system\", \"content\": system}] + history + [{\"role\": \"user\", \"content\": message}]\n",
    "    response = gemini.chat.completions.create(model=\"gemini-2.0-flash\", messages=messages)\n",
    "    reply =response.choices[0].message.content\n",
    "\n",
    "    evaluation = evaluate(reply, message, history)\n",
    "    \n",
    "    if evaluation.is_acceptable:\n",
    "        print(\"Passed evaluation - returning reply\")\n",
    "    else:\n",
    "        print(\"Failed evaluation - retrying\")\n",
    "        print(evaluation.feedback)\n",
    "        reply = rerun(reply, message, history, evaluation.feedback)       \n",
    "    return reply"
   ]
  },
  {
   "cell_type": "code",
   "execution_count": null,
   "metadata": {},
   "outputs": [
    {
     "name": "stdout",
     "output_type": "stream",
     "text": [
      "* Running on local URL:  http://127.0.0.1:7861\n",
      "* To create a public link, set `share=True` in `launch()`.\n"
     ]
    },
    {
     "data": {
      "text/html": [
       "<div><iframe src=\"http://127.0.0.1:7861/\" width=\"100%\" height=\"500\" allow=\"autoplay; camera; microphone; clipboard-read; clipboard-write;\" frameborder=\"0\" allowfullscreen></iframe></div>"
      ],
      "text/plain": [
       "<IPython.core.display.HTML object>"
      ]
     },
     "metadata": {},
     "output_type": "display_data"
    },
    {
     "data": {
      "text/plain": []
     },
     "execution_count": 35,
     "metadata": {},
     "output_type": "execute_result"
    },
    {
     "name": "stdout",
     "output_type": "stream",
     "text": [
      "Passed evaluation - returning reply\n",
      "Passed evaluation - returning reply\n",
      "Failed evaluation - retrying\n",
      "The Agent's response is not acceptable because it is written in pig latin. This is very unprofessional.\n",
      "Passed evaluation - returning reply\n",
      "Passed evaluation - returning reply\n",
      "Passed evaluation - returning reply\n",
      "Passed evaluation - returning reply\n",
      "Passed evaluation - returning reply\n"
     ]
    }
   ],
   "source": [
    "gr.ChatInterface(chat, type=\"messages\").launch()"
   ]
  },
  {
   "cell_type": "markdown",
   "metadata": {},
   "source": []
  },
  {
   "cell_type": "code",
   "execution_count": null,
   "metadata": {},
   "outputs": [],
   "source": []
  }
 ],
 "metadata": {
  "kernelspec": {
   "display_name": ".venv",
   "language": "python",
   "name": "python3"
  },
  "language_info": {
   "codemirror_mode": {
    "name": "ipython",
    "version": 3
   },
   "file_extension": ".py",
   "mimetype": "text/x-python",
   "name": "python",
   "nbconvert_exporter": "python",
   "pygments_lexer": "ipython3",
   "version": "3.12.10"
  }
 },
 "nbformat": 4,
 "nbformat_minor": 2
}
